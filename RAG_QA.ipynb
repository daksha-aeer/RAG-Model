{
  "nbformat": 4,
  "nbformat_minor": 0,
  "metadata": {
    "colab": {
      "provenance": []
    },
    "kernelspec": {
      "name": "python3",
      "display_name": "Python 3"
    },
    "language_info": {
      "name": "python"
    },
    "widgets": {
      "application/vnd.jupyter.widget-state+json": {
        "8544c43b97be4ce28050493aa2e5e129": {
          "model_module": "@jupyter-widgets/controls",
          "model_name": "HBoxModel",
          "model_module_version": "1.5.0",
          "state": {
            "_dom_classes": [],
            "_model_module": "@jupyter-widgets/controls",
            "_model_module_version": "1.5.0",
            "_model_name": "HBoxModel",
            "_view_count": null,
            "_view_module": "@jupyter-widgets/controls",
            "_view_module_version": "1.5.0",
            "_view_name": "HBoxView",
            "box_style": "",
            "children": [
              "IPY_MODEL_211a690d052443ca871457024622ee32",
              "IPY_MODEL_d010d148cc73441eb622a226e03a31fd",
              "IPY_MODEL_bf6e354e8c9d4de3903f458b95cb7658"
            ],
            "layout": "IPY_MODEL_516d88c81efc48edbf4334adac721b32"
          }
        },
        "211a690d052443ca871457024622ee32": {
          "model_module": "@jupyter-widgets/controls",
          "model_name": "HTMLModel",
          "model_module_version": "1.5.0",
          "state": {
            "_dom_classes": [],
            "_model_module": "@jupyter-widgets/controls",
            "_model_module_version": "1.5.0",
            "_model_name": "HTMLModel",
            "_view_count": null,
            "_view_module": "@jupyter-widgets/controls",
            "_view_module_version": "1.5.0",
            "_view_name": "HTMLView",
            "description": "",
            "description_tooltip": null,
            "layout": "IPY_MODEL_02ec8c6bd3e54bdba212ac7984a3e90c",
            "placeholder": "​",
            "style": "IPY_MODEL_badfebc1495a4e7fa52e18f50def89a4",
            "value": "100%"
          }
        },
        "d010d148cc73441eb622a226e03a31fd": {
          "model_module": "@jupyter-widgets/controls",
          "model_name": "FloatProgressModel",
          "model_module_version": "1.5.0",
          "state": {
            "_dom_classes": [],
            "_model_module": "@jupyter-widgets/controls",
            "_model_module_version": "1.5.0",
            "_model_name": "FloatProgressModel",
            "_view_count": null,
            "_view_module": "@jupyter-widgets/controls",
            "_view_module_version": "1.5.0",
            "_view_name": "ProgressView",
            "bar_style": "success",
            "description": "",
            "description_tooltip": null,
            "layout": "IPY_MODEL_d8de96efa82947068c19b52152a66d2c",
            "max": 58,
            "min": 0,
            "orientation": "horizontal",
            "style": "IPY_MODEL_4a6cdcc89fe74724bb82301778684222",
            "value": 58
          }
        },
        "bf6e354e8c9d4de3903f458b95cb7658": {
          "model_module": "@jupyter-widgets/controls",
          "model_name": "HTMLModel",
          "model_module_version": "1.5.0",
          "state": {
            "_dom_classes": [],
            "_model_module": "@jupyter-widgets/controls",
            "_model_module_version": "1.5.0",
            "_model_name": "HTMLModel",
            "_view_count": null,
            "_view_module": "@jupyter-widgets/controls",
            "_view_module_version": "1.5.0",
            "_view_name": "HTMLView",
            "description": "",
            "description_tooltip": null,
            "layout": "IPY_MODEL_a69a82d71f1d4703b3172964b8b3b284",
            "placeholder": "​",
            "style": "IPY_MODEL_7348e0f3bd8b4e39a8c4bd62a8fda574",
            "value": " 58/58 [00:00&lt;00:00, 1038.64it/s]"
          }
        },
        "516d88c81efc48edbf4334adac721b32": {
          "model_module": "@jupyter-widgets/base",
          "model_name": "LayoutModel",
          "model_module_version": "1.2.0",
          "state": {
            "_model_module": "@jupyter-widgets/base",
            "_model_module_version": "1.2.0",
            "_model_name": "LayoutModel",
            "_view_count": null,
            "_view_module": "@jupyter-widgets/base",
            "_view_module_version": "1.2.0",
            "_view_name": "LayoutView",
            "align_content": null,
            "align_items": null,
            "align_self": null,
            "border": null,
            "bottom": null,
            "display": null,
            "flex": null,
            "flex_flow": null,
            "grid_area": null,
            "grid_auto_columns": null,
            "grid_auto_flow": null,
            "grid_auto_rows": null,
            "grid_column": null,
            "grid_gap": null,
            "grid_row": null,
            "grid_template_areas": null,
            "grid_template_columns": null,
            "grid_template_rows": null,
            "height": null,
            "justify_content": null,
            "justify_items": null,
            "left": null,
            "margin": null,
            "max_height": null,
            "max_width": null,
            "min_height": null,
            "min_width": null,
            "object_fit": null,
            "object_position": null,
            "order": null,
            "overflow": null,
            "overflow_x": null,
            "overflow_y": null,
            "padding": null,
            "right": null,
            "top": null,
            "visibility": null,
            "width": null
          }
        },
        "02ec8c6bd3e54bdba212ac7984a3e90c": {
          "model_module": "@jupyter-widgets/base",
          "model_name": "LayoutModel",
          "model_module_version": "1.2.0",
          "state": {
            "_model_module": "@jupyter-widgets/base",
            "_model_module_version": "1.2.0",
            "_model_name": "LayoutModel",
            "_view_count": null,
            "_view_module": "@jupyter-widgets/base",
            "_view_module_version": "1.2.0",
            "_view_name": "LayoutView",
            "align_content": null,
            "align_items": null,
            "align_self": null,
            "border": null,
            "bottom": null,
            "display": null,
            "flex": null,
            "flex_flow": null,
            "grid_area": null,
            "grid_auto_columns": null,
            "grid_auto_flow": null,
            "grid_auto_rows": null,
            "grid_column": null,
            "grid_gap": null,
            "grid_row": null,
            "grid_template_areas": null,
            "grid_template_columns": null,
            "grid_template_rows": null,
            "height": null,
            "justify_content": null,
            "justify_items": null,
            "left": null,
            "margin": null,
            "max_height": null,
            "max_width": null,
            "min_height": null,
            "min_width": null,
            "object_fit": null,
            "object_position": null,
            "order": null,
            "overflow": null,
            "overflow_x": null,
            "overflow_y": null,
            "padding": null,
            "right": null,
            "top": null,
            "visibility": null,
            "width": null
          }
        },
        "badfebc1495a4e7fa52e18f50def89a4": {
          "model_module": "@jupyter-widgets/controls",
          "model_name": "DescriptionStyleModel",
          "model_module_version": "1.5.0",
          "state": {
            "_model_module": "@jupyter-widgets/controls",
            "_model_module_version": "1.5.0",
            "_model_name": "DescriptionStyleModel",
            "_view_count": null,
            "_view_module": "@jupyter-widgets/base",
            "_view_module_version": "1.2.0",
            "_view_name": "StyleView",
            "description_width": ""
          }
        },
        "d8de96efa82947068c19b52152a66d2c": {
          "model_module": "@jupyter-widgets/base",
          "model_name": "LayoutModel",
          "model_module_version": "1.2.0",
          "state": {
            "_model_module": "@jupyter-widgets/base",
            "_model_module_version": "1.2.0",
            "_model_name": "LayoutModel",
            "_view_count": null,
            "_view_module": "@jupyter-widgets/base",
            "_view_module_version": "1.2.0",
            "_view_name": "LayoutView",
            "align_content": null,
            "align_items": null,
            "align_self": null,
            "border": null,
            "bottom": null,
            "display": null,
            "flex": null,
            "flex_flow": null,
            "grid_area": null,
            "grid_auto_columns": null,
            "grid_auto_flow": null,
            "grid_auto_rows": null,
            "grid_column": null,
            "grid_gap": null,
            "grid_row": null,
            "grid_template_areas": null,
            "grid_template_columns": null,
            "grid_template_rows": null,
            "height": null,
            "justify_content": null,
            "justify_items": null,
            "left": null,
            "margin": null,
            "max_height": null,
            "max_width": null,
            "min_height": null,
            "min_width": null,
            "object_fit": null,
            "object_position": null,
            "order": null,
            "overflow": null,
            "overflow_x": null,
            "overflow_y": null,
            "padding": null,
            "right": null,
            "top": null,
            "visibility": null,
            "width": null
          }
        },
        "4a6cdcc89fe74724bb82301778684222": {
          "model_module": "@jupyter-widgets/controls",
          "model_name": "ProgressStyleModel",
          "model_module_version": "1.5.0",
          "state": {
            "_model_module": "@jupyter-widgets/controls",
            "_model_module_version": "1.5.0",
            "_model_name": "ProgressStyleModel",
            "_view_count": null,
            "_view_module": "@jupyter-widgets/base",
            "_view_module_version": "1.2.0",
            "_view_name": "StyleView",
            "bar_color": null,
            "description_width": ""
          }
        },
        "a69a82d71f1d4703b3172964b8b3b284": {
          "model_module": "@jupyter-widgets/base",
          "model_name": "LayoutModel",
          "model_module_version": "1.2.0",
          "state": {
            "_model_module": "@jupyter-widgets/base",
            "_model_module_version": "1.2.0",
            "_model_name": "LayoutModel",
            "_view_count": null,
            "_view_module": "@jupyter-widgets/base",
            "_view_module_version": "1.2.0",
            "_view_name": "LayoutView",
            "align_content": null,
            "align_items": null,
            "align_self": null,
            "border": null,
            "bottom": null,
            "display": null,
            "flex": null,
            "flex_flow": null,
            "grid_area": null,
            "grid_auto_columns": null,
            "grid_auto_flow": null,
            "grid_auto_rows": null,
            "grid_column": null,
            "grid_gap": null,
            "grid_row": null,
            "grid_template_areas": null,
            "grid_template_columns": null,
            "grid_template_rows": null,
            "height": null,
            "justify_content": null,
            "justify_items": null,
            "left": null,
            "margin": null,
            "max_height": null,
            "max_width": null,
            "min_height": null,
            "min_width": null,
            "object_fit": null,
            "object_position": null,
            "order": null,
            "overflow": null,
            "overflow_x": null,
            "overflow_y": null,
            "padding": null,
            "right": null,
            "top": null,
            "visibility": null,
            "width": null
          }
        },
        "7348e0f3bd8b4e39a8c4bd62a8fda574": {
          "model_module": "@jupyter-widgets/controls",
          "model_name": "DescriptionStyleModel",
          "model_module_version": "1.5.0",
          "state": {
            "_model_module": "@jupyter-widgets/controls",
            "_model_module_version": "1.5.0",
            "_model_name": "DescriptionStyleModel",
            "_view_count": null,
            "_view_module": "@jupyter-widgets/base",
            "_view_module_version": "1.2.0",
            "_view_name": "StyleView",
            "description_width": ""
          }
        }
      }
    }
  },
  "cells": [
    {
      "cell_type": "markdown",
      "source": [
        "# **Building the Database**"
      ],
      "metadata": {
        "id": "PBHNdmFxg571"
      }
    },
    {
      "cell_type": "markdown",
      "source": [
        "Scraping the data from Toyota's Wikipedia Page and saving it as a json file"
      ],
      "metadata": {
        "id": "wC7xMFwsdo-5"
      }
    },
    {
      "cell_type": "code",
      "execution_count": 2,
      "metadata": {
        "colab": {
          "base_uri": "https://localhost:8080/"
        },
        "id": "6ZTHJdFRdPyD",
        "outputId": "8f6fd640-a42f-4a5a-b431-b3b4a766c823"
      },
      "outputs": [
        {
          "output_type": "stream",
          "name": "stdout",
          "text": [
            "Data successfully saved to 'scraped_data.json'.\n"
          ]
        }
      ],
      "source": [
        "import requests\n",
        "from bs4 import BeautifulSoup\n",
        "import json\n",
        "\n",
        "url = 'https://en.wikipedia.org/wiki/Toyota'\n",
        "response = requests.get(url)\n",
        "\n",
        "soup = BeautifulSoup(response.content, 'lxml')\n",
        "paragraphs = soup.find_all('p')\n",
        "\n",
        "paragraph_texts = [para.get_text() for para in paragraphs]\n",
        "\n",
        "with open('scraped_data.json', 'w', encoding='utf-8') as file:\n",
        "    json.dump(paragraph_texts, file, ensure_ascii=False, indent=4)\n",
        "\n",
        "print(\"Data successfully saved to 'scraped_data.json'.\")\n"
      ]
    },
    {
      "cell_type": "code",
      "source": [
        "import json\n",
        "\n",
        "with open('scraped_data.json', 'r', encoding='utf-8') as file:\n",
        "    scraped_data = json.load(file)\n",
        "print(scraped_data)"
      ],
      "metadata": {
        "colab": {
          "base_uri": "https://localhost:8080/"
        },
        "id": "bgPn0QW0dc0c",
        "outputId": "7f26674d-39be-40da-b118-2b94266618f3"
      },
      "execution_count": 3,
      "outputs": [
        {
          "output_type": "stream",
          "name": "stdout",
          "text": [
            "['\\n', 'Toyota Motor Corporation (Japanese: トヨタ自動車株式会社, Hepburn: Toyota Jidōsha kabushikigaisha, IPA: [toꜜjota], English: /tɔɪˈjoʊtə/, commonly known as simply Toyota) is a Japanese multinational automotive manufacturer headquartered in Toyota City, Aichi, Japan. It was founded by Kiichiro Toyoda and incorporated on August 28, 1937. Toyota is the largest automobile manufacturer in the world, producing about 10 million vehicles per year.\\n', \"The company was originally founded as a spinoff of Toyota Industries, a machine maker started by Sakichi Toyoda, Kiichiro's father. Both companies are now part of the Toyota Group, one of the largest conglomerates in the world. While still a department of Toyota Industries, the company developed its first product, the Type A engine, in 1934 and its first passenger car in 1936, the Toyota AA.\\n\", \"After World War II, Toyota benefited from Japan's alliance with the United States to learn from American automakers and other companies, which gave rise to The Toyota Way (a management philosophy) and the Toyota Production System (a lean manufacturing practice) that transformed the small company into a leader in the industry and was the subject of many academic studies.\\n\", \"In the 1960s, Toyota took advantage of the rapidly growing Japanese economy to sell cars to a growing middle-class, leading to the development of the Toyota Corolla, which became the world's all-time best-selling automobile. The booming economy also funded an international expansion that allowed Toyota to grow into one of the largest automakers in the world, the largest company in Japan and the ninth-largest company in the world by revenue, as of December\\xa02020[update]. Toyota was the world's first automobile manufacturer to produce more than 10 million vehicles per year, a record set in 2012, when it also reported the production of its 200 millionth vehicle. By September 2023, total production reached 300 million vehicles.[1]\\n\", 'Toyota was praised for being a leader in the development and sales of more fuel-efficient hybrid electric vehicles, starting with the introduction of the original Toyota Prius in 1997. The company now sells more than 40 hybrid vehicle models around the world. More recently, the company has also been criticized for being slow to adopt all-electric vehicles, instead focusing on the development of hydrogen fuel cell vehicles, like the Toyota Mirai, a technology that is much costlier and has fallen far behind electric batteries in terms of adoption. \\n', 'As of 2024[update], the Toyota Motor Corporation produces vehicles under four brands: Daihatsu, Hino, Lexus and the namesake Toyota. The company also holds a 20% stake in Subaru Corporation, a 5.1% stake in Mazda, a 4.9% stake in Suzuki, a 4.6% stake in Isuzu, a 3.8% stake in Yamaha Motor Corporation, and a 2.8% stake in Panasonic, as well as stakes in vehicle manufacturing joint-ventures in China (FAW Toyota and GAC Toyota), the Czech Republic (TPCA), India (Toyota Kirloskar) and the United States (MTMUS).\\n', 'Toyota is listed on the London Stock Exchange, Nagoya Stock Exchange, New York Stock Exchange and on the Tokyo Stock Exchange, where its stock is a component of the Nikkei 225 and TOPIX Core30 indices.\\n', 'In 1924, Sakichi Toyoda invented the Toyoda Model G Automatic loom. The principle of jidoka, which means the machine stops itself when a problem occurs, became later a part of the Toyota Production System. Looms were built on a small production line. In 1929, the patent for the automatic loom was sold to the British company Platt Brothers,[2][3] generating the starting capital for automobile development.[4][5]\\n', \"Under the direction of the founder's son, Kiichiro Toyoda,[6][7][8] Toyoda Automatic Loom Works established an Automobile Division on September 1, 1933, and formally declared its intention to begin manufacturing automobiles on January 29, 1934.[6][9] A prototype Toyota Type A engine was completed on September 25, 1934, with the company's first prototype sedan, the A1, completed the following May. As Kiichiro had limited experience with automobile production, he initially focused on truck production; the company's first truck, the G1, was completed on August 25, 1935, and debuted on November 21 in Tokyo, becoming the company's first production model.[6][10][non-primary source needed] Modeled on a period Ford truck, the G1 sold for ¥2,900, ¥200 cheaper than the Ford truck. A total of 379 G1 trucks were ultimately produced.[10][11]\\n\", \"In April 1936, Toyoda's first passenger car, the Model AA, was completed. The sales price was ¥3,350, ¥400 cheaper than Ford or GM cars.[12][non-primary source needed] The company's plant at Kariya was completed in May. In July, the company filled its first export order, with four G1 trucks exported to northeastern China.[6][non-primary source needed] On September 19, 1936, the Japanese imperial government officially designated Toyota Automatic Loom Works as an automotive manufacturer.[6][non-primary source needed]\\n\", 'Vehicles were originally sold under the name \"Toyoda\" (トヨダ), from the family name of the company\\'s founder, Kiichirō Toyoda. In September 1936, the company ran a public competition to design a new logo. Of 27,000 entries, the winning entry was the three Japanese katakana letters for \"Toyoda\" in a circle. However, Rizaburo Toyoda, who had married into the family and was not born with that name, preferred \"Toyota\" (トヨタ) because it took eight brush strokes (a lucky number) to write in Japanese, was visually simpler (leaving off the diacritic at the end), and with a voiceless consonant instead of a voiced one (voiced consonants are considered to have a \"murky\" or \"muddy\" sound compared to voiceless consonants, which are \"clear\").\\n', 'Since toyoda literally means \"fertile rice paddies\", changing the name also prevented the company from being associated with old-fashioned farming. The newly formed word was trademarked and the company began trading on August 28, 1937, as the Toyota Motor Company Ltd.[6][13][14][15] Kiichiro\\'s brother-in-law Rizaburo Toyoda was appointed the firm\\'s first president, with Kiichiro as vice-president. Toyota Automatic Loom Works formally transferred automobile manufacturing to the new entity on September 29.[6][non-primary source needed]\\n', 'The Japanese government supported the company by preventing foreign competitors Ford and General Motors from importing automobiles into Japan.[16]\\n', 'At the onset of World War II, Toyota almost exclusively produced standard-sized trucks for the Japanese Army, which paid one-fifth of the price in advance and the remainder in cash upon delivery.[17][18]\\n', \"Japan was heavily damaged in World War II and Toyota's plants, which were used for the war effort, were not spared. On August 14, 1945, one day before the surrender of Japan, Toyota's Koromo Plant was bombed by the Allied forces.[19][20][21] After the surrender, the U.S.-led occupying forces banned passenger car production in Japan. However, automakers like Toyota were allowed to begin building trucks for civilian use, in an effort to rebuild the nation's infrastructure.[22][non-primary source needed] The U.S. military also contracted with Toyota to repair its vehicles.[23][non-primary source needed]\\n\", 'By 1947, there was an emerging global Cold War between the Soviet Union and the U.S., who had been allies in World War II. U.S. priorities shifted (the \"Reverse Course\") from punishing and reforming Japan to ensuring internal political stability, rebuilding the economy, and, to an extent, remilitarizing Japan. Under these new policies, in 1949, Japanese automakers were allowed to resume passenger car production, but at the same time, a new economic stabilization program to control inflation plunged the automotive industry into a serious shortage of funds, while many truck owners defaulted on their loans.[24][non-primary source needed] Ultimately, the Bank of Japan, the central bank of the country, bailed out the company, with demands that the company institute reforms.[25][non-primary source needed]\\n', \"As the 1950s began, Toyota emerged from its financial crisis a smaller company, closing factories and laying off workers. Meanwhile, the Korean War broke out, and being located so close to the battlefront, the U.S. Army placed an order for 1,000 trucks from Toyota.[26] The order helped to rapidly improve the struggling company's business performance.[27][non-primary source needed] In 1950, company executives, including Kiichiro's cousin Eiji Toyoda, took a trip to the United States where they trained at the Ford Motor Company and observed the operations of dozens of U.S. manufacturers.[28][non-primary source needed] The knowledge they gained during the trip, along with what the company learned making looms, gave rise to The Toyota Way (a management philosophy) and the Toyota Production System (a lean manufacturing practice) that transformed the company into a leader in the manufacturing industry.[29]\\n\", 'Toyota started developing its first full-fledged passenger car, the Toyopet Crown, in 1952.[30] Prior to the Crown, Toyota had been outsourcing the design and manufacturing of auto bodies, which were then mounted on truck frames made by Toyota.[31][non-primary source needed] The project was a major test for Toyota, who would need to build bodies and develop a new chassis that would be comfortable, but still stand up to the muddy, slow, unpaved roads common in Japan at the time.[31][non-primary source needed] The project had been championed for many years by founder Kiichiro Toyoda, who died suddenly on March 27, 1952. The first prototypes were completed in June 1953 and began extensive testing, before the Crown went on sale in August 1955.[32][non-primary source needed] The car was met with positive reviews from around the world.\\n', \"After the introduction of the Crown, Toyota began aggressively expanding into the export market; the company entered Saudi Arabia for the first time in 1955 with Land Cruisers, following an agreement reached with Abdul Latif Jameel (founder of his company of the same name);[33][34] Toyota also brought Land Cruisers into neighboring Yemen in 1956.[35] In 1958, Toyota established a production facility in Brazil, the company's first outside of Japan.[36][37]\\n\", 'Toyota entered the United States market in 1958, attempting to sell the Toyopet Crown.[38] The company faced problems almost immediately.  The company had to confront for the first time how its name sounded to native speakers of the English language; namely, \"Toyota\" has the English word \"toy\" in its first syllable. Toyota Motor Sales, USA\\'s first sales administrator James F. McGraw bluntly told his new Japanese supervisors after joining the company in 1959: \"\\'Toy\\' sounds like a toy and toys break\".[39]  The Crown was a flop in the U.S. market, with buyers finding it overpriced and underpowered (because it was designed for endurance on the bad roads of Japan, not high-speed performance on the good roads of America).[38]  In response, exports of the Crown to the United States were suspended in the early 1960s in favor of the Land Cruiser and the Tiara.[40][38]\\n', \"After Kiichiro's death, his cousin Eiji Toyoda led the company for the two decades. Eiji helped establish the company's first plant independent from the Loom Works plant.[15]\\n\", \"At the start of the 1960s, the Japanese economy was booming, a period that came to be known as the Japanese economic miracle. As the economy grew, so did the income of everyday people, who now could afford to purchase a vehicle. At the same time, the Japanese government heavily invested in improving road infrastructure.[41][non-primary source needed] To take advantage of the moment, Toyota and other automakers started offering affordable economy cars like the Toyota Corolla, which became the world's all-time best-selling automobile.[42][43][non-primary source needed]\\n\", 'Toyota also found success in the United States in 1965 with the Toyota Corona compact car, which was redesigned specifically for the American market with a more powerful engine. The Corona helped increase U.S. sales of Toyota vehicles to more than 20,000 units in 1966 (a threefold increase) and helped the company become the third-best-selling import brand in the United States by 1967. Toyota\\'s first manufacturing investment in the United States came in 1972 when the company struck a deal with Atlas Fabricators, to produce truck beds in Long Beach, in an effort to avoid the 25% \"chicken tax\" on imported light trucks. By importing the truck as an incomplete chassis cab (the truck without a bed), the vehicle only faced a 4% tariff.[44] Once in the United States, Atlas would build the truck beds and attach them to the trucks. The partnership was successful and two years later, Toyota purchased Atlas.[45][46]\\n', 'In Southeast Asia, Toyota made efforts to establish domestic production in the Philippines and Indonesia in early 1970s. In the Philippines, it partnered with local company Delta Motor Corporation. Toyota assisted Delta Motor with capital procurement and technology transfers. In 1973, Delta Motor commenced operations at a new plant, beginning local production of engine blocks for the Toyota Corona 12R engine and other parts. In Indonesia, Toyota established Toyota Astra Motor as a joint venture with local partner Astra International in 1971, and conducted significant retooling at the PT Gaya Motor assembly plant. The plant began assembling various models, including the Toyota Corona, Toyota Land Cruiser, large trucks, and the Toyota Corolla, with production surpassing 10,000 vehicles by 1973. For both countries, Toyota developed a basic utility vehicle (BUV) with the local partners to meet local needs and support technology transfers, in response to domestic production policies in Asia. The first prototype of the BUV was completed in January 1975. The BUV was launched as the Toyota Tamaraw in the Philippines in December 1976, and as the Toyota Kijang in June 1977. The vehicle was well received in both countries.[47][48][49]\\n', 'The energy crisis of the 1970s was a major turning point in the American auto industry. Before the crisis, large and heavy vehicles with powerful but inefficient engines were common. But in the years after, consumers started demanding high-quality and fuel-efficient small cars. Domestic automakers, in the midst of their malaise era, struggled to build these cars profitably, but foreign automakers like Toyota were well positioned. This, along with growing anti-Japanese sentiment, prompted the U.S. Congress to consider import restrictions to protect the domestic auto industry.\\n', \"The 1960s also saw the slight opening of the Japanese auto market to foreign companies. In an effort to strengthen Japan's auto industry ahead of the market opening, Toyota purchased stakes in other Japanese automakers. That included a stake in Hino Motors, a manufacturer of large commercial trucks, buses and diesel engines, along with a 16.8 percent stake in Daihatsu, a manufacturer of kei cars, the smallest highway-legal passenger vehicles sold in Japan.[50] That began what became a long-standing partnership between Toyota and the two companies. As part of the partnership, Daihatsu would supply kei cars for Toyota to sell and to a lesser extent Toyota would supply full-sized cars for Daihatsu to sell (a process known as rebadging), allowing both companies to sell a full line-up of vehicles.\\n\", 'After the successes of the 1970s, and the threats of import restrictions, Toyota started making additional investments in the North American market in the 1980s. In 1981, Japan agreed to voluntary export restraints, which limited the number of vehicles the nation would send to the United States each year, leading Toyota to establish assembly plants in North America. The U.S. government also closed the loophole that allowed Toyota to pay lower taxes by building truck beds in America.\\n', 'Also in 1981, Eiji Toyoda stepped down as president and assumed the title of chairman. He was succeeded as president by Shoichiro Toyoda, the son of the company\\'s founder.[15] Within months, Shoichiro started to merge Toyota\\'s sales and production organizations, and in 1982 the combined companies became the Toyota Motor Corporation. The two groups were described as \"oil and water\" and it took years of leadership from Shoichiro to successfully combine them into one organization.[51]\\n', 'In Japan, Toyota offered mid-level luxury cars that were a class below the Crown and Century and offered hardtop coupes and sedans. The Supra, Mark II, Cresta and Chaser offered several trim packages with different engine displacements to provide buyers with annual road tax advantages. At the same time, sports cars like Celica, Corolla Levin and Sprinter Trueno sold very well.\\n', 'Efforts to open a Toyota assembly plant in the United States started in 1980, with the company proposing a joint-venture with the Ford Motor Company. Those talks broke down in July 1981.[52] Eventually in 1984, the company struck a deal with General Motors (GM) to establish a joint-venture vehicle manufacturing plant called NUMMI (New United Motor Manufacturing, Inc.) in Fremont, California.[53] GM saw the joint venture as a way to get access to a quality small car and an opportunity to learn about The Toyota Way and the Toyota Production System. For Toyota, the factory gave the company its first manufacturing base in North America allowing it to avoid any future tariffs on imported vehicles and saw GM as a partner who could show them how to navigate the American labor environment. The plant would be led by Tatsuro Toyoda, the younger brother of company president Shoichiro Toyoda.[54] The first Toyota assembled in America, a white Corolla, rolled off the line at NUMMI on October 7, 1986.[55]\\n', \"Toyota received its first Japanese Quality Control Award at the start of the 1980s and began participating in a wide variety of motorsports. Conservative Toyota held on to rear-wheel-drive designs for longer than most; while a clear first in overall production they were only third in production of front-wheel-drive cars in 1983, behind Nissan and Honda. In part due to this, Nissan's Sunny managed to squeeze by the Corolla in numbers built that year.[56]\\n\", \"Before the decade was out, Toyota introduced Lexus, a new division that was formed to market and service luxury vehicles in international markets. Prior to the debut of Lexus, Toyota's two existing flagship models, the Crown and Century, both catered exclusively for the Japanese market and had little global appeal that could compete with international luxury brands such as Mercedes-Benz, BMW and Jaguar. The company had been developing the brand and vehicles in secret since August 1983, at a cost of over US$1 billion.[57][58] The LS 400 flagship full-size sedan debuted in 1989 to strong sales, and was largely responsible for the successful launch of the Lexus marque.\\n\", 'In the 1990s, Toyota began to branch out from producing mostly compact cars by adding many larger and more luxurious vehicles to its lineup, including a full-sized pickup, the T100 (and later the Tundra), several lines of SUVs, a sport version of the Camry, known as the Camry Solara. They would also launch newer iterations of their sports cars, namely the MR2, Celica, and Supra during this era.\\n', 'In Japan, Toyota continued to cater to the growing demand for mid-level luxury cars and offered several conventional and pillared hardtops sedans at its Japanese dealership network. The Soarer, Mark II, Cresta, Chaser, Corona EXiV, and Carina ED found many buyers. At the same time, sports cars like the Supra, Celica, MR2, Corolla Levin, Sprinter Trueno, and even the subcompact Starlet GT reflected a time of prosperity.\\n', 'December 1997 saw the introduction of the first-generation Toyota Prius, the first mass-produced gasoline-electric hybrid car.[59] The vehicle would be produced exclusively for the Japanese market for the first two years.\\n', \"With a major presence in Europe, due to the success of Toyota Team Europe in motorsport, the corporation decided to set up Toyota Motor Europe Marketing and Engineering, TMME, to help market vehicles in the continent. Two years later, Toyota set up a base in the United Kingdom, TMUK, as the company's cars had become very popular among British drivers. Bases in Indiana, Virginia, and Tianjin were also set up.\\n\", 'Toyota also increased its ownership of Daihatsu during this period. In 1995, Toyota increased its shareholding in the company to 33.4 percent, giving Toyota the ability to veto shareholder resolutions at the annual meeting.[50] In 1998, Toyota increased its holding in the company to 51.2 percent, becoming the majority shareholder.[60]\\n', 'On September 29, 1999, the company decided to list itself on the New York and London Stock Exchanges.\\n', \"The later half of the 1990s would also see the Toyoda brothers step back from the company their father had founded. In 1992, Shoichiro Toyoda would shift to become chairman, allowing his brother Tatsuro to become president, a job he held until his retirement in 1995.[54] Shoichiro would step down as chairman in 1999. Both would retain honorary advisory roles in the company. Hiroshi Okuda would lead the company as president from 1995 until 1999 when he became chairman and the President's office would be filled by Fujio Cho.\\n\", \"In August 2000, exports began of the Prius.[59] In 2001, Toyota acquired its long time partner, truck and bus manufacturer Hino Motors. In 2002, Toyota entered Formula One competition and established a manufacturing joint venture in France with French automakers Citroën and Peugeot. A youth-oriented marque for North America, Scion, was introduced in 2003. Toyota ranked eighth on Forbes 2000 list of the world's leading companies for the year 2005.[61] Also in 2005, Fujio Cho would shift to become chairman of Toyota and would be replaced as president by Katsuaki Watanabe.\\n\", 'In 2007, Toyota released an update of its full-sized truck, the Tundra, produced in two American factories, one in Texas and one in Indiana. Motor Trend named the 2007 Toyota Camry \"Car of the Year\" for 2007. It also began the construction of two new factories, one in Woodstock, Ontario, Canada, and the other in Blue Springs, Mississippi, USA.\\n', 'The company was number one in global automobile sales for the first quarter of 2008.[62]\\n', 'Toyota was hit by the global financial crisis of 2008 as it was forced in December 2008 to forecast its first annual loss in 70 years.[63] In January 2009, it announced the closure of all of its Japanese plants for 11 days to reduce output and stocks of unsold vehicles.[64]\\n', 'In October 2009, Toyota announced that they were establishing an office in South Korea and launched the Camry sedan, Camry hybrid, Prius and the RAV4 during the launching event at the Grand Hyatt Seoul.[65]\\n', \"Between 2009 and 2011, Toyota conducted recalls of millions of vehicles after reports that several drivers experienced unintended acceleration. The recalls were to prevent a front driver's side floor mat from sliding into the foot pedal well, causing the pedals to become trapped and to correct the possible mechanical sticking of the accelerator pedal.[66] At least 37 were killed in crashes allegedly related to unintended acceleration,[67] approximately 9 million cars and trucks were recalled,[68] Toyota was sued for personal injuries and wrongful deaths,[69] paid US$1 billion to settle a class action lawsuit to compensate owners for lost resale value,[70] and paid a US$1.2 billion criminal penalty to the United States government over accusations that it had intentionally hid information about safety defects and had made deceptive statements to protect its brand image.[71]\\n\", \"Amid the unintended acceleration scandal, Katsuaki Watanabe stepped down as company president. He was replaced by Akio Toyoda, grandson of company founder Kiichiro Toyoda, on June 23, 2009. Akio had been with Toyota since 1984, working jobs in production, marketing and product development, and took a seat on the board of directors in 2000.[72][non-primary source needed] Akio's promotion by the board marked the return of a member of the Toyoda family to the top leadership role for the first time since 1999.[73]\\n\", 'In 2011, Toyota, along with large parts of the Japanese automotive industry, suffered from a series of natural disasters. The 2011 Tōhoku earthquake and tsunami led to a severe disruption of the supplier base and a drop in production and exports.[74][75] Severe flooding during the 2011 monsoon season in Thailand affected Japanese automakers that had chosen Thailand as a production base. Toyota is estimated to have lost production of 150,000 units to the tsunami and production of 240,000 units to the floods.\\n', 'On February 10, 2014, it was announced that Toyota would cease manufacturing vehicles and engines in Australia by the end of 2017.[76][77] The decision was based on the unfavourable Australian dollar making exports not viable, the high cost of local manufacture, and the high amount of competition in a relatively small local market.[77][non-primary source needed] The company planned to consolidate its corporate functions in Melbourne by the end of 2017, and retain its Altona plant for other functions. The workforce is expected to be reduced from 3,900 to 1,300.[78][non-primary source needed] Both Ford Motor Company and General Motors (Holden) followed suit, ending Australian production in 2016 and 2017 respectively.\\n', 'The automaker narrowly topped global sales for the first half of 2014, selling 5.1 million vehicles in the six months ending June 30, 2014, an increase of 3.8% on the same period the previous year. Volkswagen AG, which recorded sales of 5.07 million vehicles, was close behind.[79]\\n', \"In August 2014, Toyota announced it would be cutting its spare-parts prices in China by up to 35%. The company admitted the move was in response to a probe foreshadowed earlier in the month by China's National Development and Reform Commission of Toyota's Lexus spare-parts policies, as part of an industry-wide investigation into what the Chinese regulator considers exorbitantly high prices being charged by automakers for spare parts and after-sales servicing.[80]\\n\", \"In November 2015, the company announced that it would invest US$1 billion over the next five years into artificial intelligence and robotics research.[81] In 2016, Toyota invested in Uber.[82] In 2020, a corporate governance report showed that Toyota owns 10.25 million shares of Uber, which was valued at $292.46 million as of March 30, 2020. According to Reuters, this was roughly 0.6 percent of Uber's outstanding shares.[83]\\n\", 'In March 2016, Toyota partnered with Yanmar to create a fiberglass pleasure boat using Yanmar outboard marine diesel engines or Toyota inboard engines.[84]\\n', 'In August 2016, the company purchased all remaining assets of Daihatsu, making the manufacturer of small cars a wholly owned subsidiary of Toyota.[85]\\n', \"On August 27, 2018, Toyota announced an investment of US$500 million in Uber's autonomous cars.[86]\\n\", \"In October 2019, Toyota backed the Trump Administration's proposal that federal authority should override California's ability to set its own emissions standards for automobiles. The proposal would reduce California's 2025 fuel efficiency standard from about 54.5 to 37 MPG.[87] This shift by Toyota away from fuel efficiency damaged the company's reputation as a green brand.[88][89]\\n\", 'By 2020, Toyota reclaimed its position as the largest automaker in the world, surpassing Volkswagen.[90] It sold 9.528 million vehicles globally despite an 11.3% drop in sales due to the COVID-19 pandemic.[90] This includes subsidiaries Daihatsu and Hino Motors.[90][91]\\n', 'On April 2, 2020, BYD and Toyota announced a new joint venture between the two companies called BYD Toyota EV Technology Co., Ltd., with the aim of \"developing BEVs (Battery Electric Vehicles) that appeal to customers.\"[92]\\n', 'In March 2021, Toyota, its subsidiary Hino, and Isuzu announced the creation of a strategic partnership between the three companies. Toyota acquired a 4.6% stake in Isuzu while the latter plans to acquire Toyota shares for an equivalent value. The three companies said they would form a new joint venture by April called Commercial Japan Partnership Technologies Corporation with the aim of developing fuel cell and electric light trucks. Toyota would own an 80% stake in the venture while Hino and Isuzu would own 10% each.[93]\\n', \"In April 2021, Toyota said that it will buy Lyft's self-driving technology unit for $550 million and merge it with its newly created Woven Planet Holdings automation division.[94]\\n\", 'In June 2021, the company defended its donations to the United States Republican lawmakers after they voted against certifying the results of the 2020 presidential election, saying it did not believe it was \"appropriate to judge members of Congress\" for that one vote.[95] A report by Axios found that Toyota was the top donor to 2020 election objectors, by a substantial margin.[96] The company then reversed course in July 2021 and ceased donations to election objectors, releasing a statement saying it understood that its PAC\\'s donations to those objectors, which far outpaced those of any other company, \"troubled some stakeholders.\"[97] Toyota resumed donations after a six-month pause.[98]\\n', 'In December 2021, Toyota announced that it would invest ¥8,000,000,000,000 ($70 billion at 2021 exchange rate) in electric vehicles by 2030, launch 30 EV models worldwide by that year, and set a sales target of 3.5 million electric vehicles in 2030.[99]\\n', 'Toyota will increase its software engineer intake to around 40% to 50% of all technical hires from the second quarter of 2022, the move plans to address a transformation to so-called CASE — connected, autonomous, shared and electric — technologies in an environment of intensifying global competition.[100]\\n', 'In 2021, Toyota told some of its suppliers to increase their semiconductor inventory levels from the conventional three months to five months in response to the COVID-19 chip shortage.[101] The \"just-in-time\" supply chain in which parts are only delivered when necessary, had already been revised after the March 11, 2011, earthquake and tsunami in Japan, lifting inventories across the entire procurement network.[101] The time it takes Toyota to turn over its inventory increased by around 40% during the past ten years, to 36.36 days as of March\\xa02021[update].[101]\\n', \"In June 2022, Toyota recalled 2,700 of its first mass-produced all-electric vehicles due to worries that their wheels could fall off during driving. It was discovered that the bolts on the bZ4X's wheels could loosen up to the point where the wheel simply detaches from the car, causing a loss of control over the vehicle and possible accident.[102]\\n\", \"In August 2022, Toyota pledged up to $5.6 billion towards electric vehicle battery production and announced an increase in investment in its plant near Greensboro, North Carolina.[103][104] Also in 2022, Toyota managed to maintain its position as the world's best-selling automaker for the third year in a row.[105][106]\\n\", 'In 2022, Toyota signed a £11.3 million deal with the British government to develop hydrogen-powered pickup trucks. The Department for Business, Energy and Industrial Strategy is investing £5.6 million in the research scheme, based at Burnaston, with a further £5.7 million coming through the Advanced Propulsion Centre UK (APC).[107]\\n', \"In January 2023, Toyota CEO and President Akio Toyoda announced that he was stepping down and passing the position on to Koji Sato. Akio is the great-grandson of company founder Rizaburo Toyoda. Sato had previously run Lexus, Toyota's luxury car brand. The change is set to take effect on April 1, 2023.[108][109]\\n\", 'In 2023, after negotiating with the unions, Toyota implemented the largest increase in employee wages in 20 years.[110]\\n', 'In July 2024, Toyota announced plans to build an electric car cell plant in Fukuoka and export them to the rest of Asia.[111]\\n', 'In 1950, Toyota was split into Toyota Motor Co. and Toyota Motor Sales Co. (sales arm of Toyota); the two companies merged in 1982 to create one unified company, with then-Toyota Motor Co. President Eiji Toyoda becoming chairman. Chairmen listed prior to 1982 below were for the pre-merger Toyota Motor Co. only.[112][113]\\n', \"Similar to the chairman position, in 1982 the then-Toyota Motor Sales Co. President Shoichiro Toyoda becoming President. President's listed prior to 1982 below were for the pre-merger Toyota Motor Co. only.[112][117]\\n\", '\\nToyota officially lists approximately 70 different models sold under its namesake brand, including sedans, coupes, vans, trucks, hybrids, and crossovers. Many of these models are produced as passenger sedans, which range from the subcompact Toyota Yaris, compact Corolla, to mid-size Camry and full-size Avalon. Minivans include the Innova, Alphard/Vellfire, Sienna, and others. Several small cars, such as the xB and tC, were sold under the Scion brand.', 'Toyota SUV and crossover line-up grew quickly in the late 2010s to 2020s due to the market shift to SUVs. Toyota crossovers range from the subcompact Yaris Cross and C-HR, compact Corolla Cross and RAV4, to midsize Harrier/Venza and Kluger/Highlander. Other crossovers include the Raize, Urban Cruiser. Toyota SUVs range from the midsize Fortuner to full-size Land Cruiser. Other SUVs include the Rush, Prado, FJ Cruiser, 4Runner, and Sequoia.\\n', 'Toyota first entered the pickup truck market in 1947 with the SB that was only sold in Japan and limited Asian markets. It was followed in 1954 by the RK (renamed in 1959 as the Stout) and in 1968 by the compact Hilux. With continued refinement, the Hilux (simply known as the Pickup in some markets) became famous for being extremely durable and reliable.[123] Extended cab and crew cab versions were eventually added, and Toyota continues to produce them today under various names depending on the market in various cab lengths, with gasoline or diesel engines, and 2WD and 4WD versions.\\n', 'In North America, the Hilux became a major model for the company, leading the company to launch the Tacoma in 1995.[124][non-primary source needed] The Tacoma was based on the Hilux, but with a design intended to better suit the needs of North American consumers who often use pickup trucks as personal vehicles. The design was a success and the Tacoma became the best-selling compact pickup in North America.\\n', 'After the success of its compact Hilux pickups in North America, Toyota decided to enter the full-size pickup market, which was traditionally dominated by domestic automakers. The company introduced the T100 for the 1993 US model year. The T100 had a full-size 8-foot (2.4\\xa0m) long bed, but suspension and engine characteristics were similar to that of a compact pickup. Sales were disappointing and the T100 was criticized for having a small V6 engine (especially compared to the V8 engines common in American full-size trucks), lacking an extended-cab version, being too small, and too expensive (because of the 25% tariff on imported trucks).[125] In 1995, Toyota added the more powerful V6 engine from the new Tacoma to the T100 and also added an extended cab version.[125] In 1999, Toyota replaced the T100 with the larger Tundra, which would be built in the US with a V8 engine and styling that more closely matched other American full-size trucks.[126]\\n', 'In the Japanese home market, Toyota has two flagship models: the Crown premium sedan and the Century limousine.\\n', 'In the 1980s, Toyota wanted to expand its luxury car offerings but realized that existing Japanese-market flagship models had little global appeal and could not compete with established brands such as Mercedes-Benz, BMW and Jaguar or the Acura and Infiniti marquees being launched by Japanese competitors.\\n', 'Before the decade was out, Toyota introduced Lexus, a new division that was formed to market and service luxury vehicles in markets outside of Japan. The company developed the brand and its vehicles in secret since August 1983, at a cost of over US$1 billion.[57][127] The Lexus LS flagship full-size sedan debuted in 1989 to strong sales, and was largely responsible for the successful launch of the Lexus marque. Subsequently, the division added sedan, coupé, convertible and SUV models.\\n', 'The Lexus brand was introduced to the Japanese market in 2005, previously all vehicles marketed internationally as Lexus from 1989 to 2005 were released in Japan under the Toyota marque.\\n', 'The Toyota Coaster is a minibus introduced in 1969 that seats 17 passengers. The Coaster is widely used in Japan, Singapore, Hong Kong, and Australia, but also in the developing world for minibus operators in Africa, the Middle East, South Asia, the Caribbean, and South America to operate as public transportation.\\n', \"Toyota is the world's leader in sales of hybrid electric vehicles, one of the largest companies to encourage the mass-market adoption of hybrid vehicles across the globe, and the first to commercially mass-produce and sell such vehicles, with the introduction of the XW10 Toyota Prius in 1997.[128][129] The company's series hybrid technology is called Hybrid Synergy Drive, and it was later applied to many vehicles in Toyota's product lineup, starting first with the Camry and the technology was also brought to the luxury Lexus division.\\n\", \"As of January\\xa02020[update], Toyota Motor Corporation sells 44 Toyota and Lexus hybrid passenger car models in over 90 countries and regions around the world, and the carmaker has sold over 15 million hybrid vehicles since 1997.[130][non-primary source needed] The Prius family is the world's top-selling hybrid gasoline-electric vehicle nameplate with almost 4 million units sold worldwide as of January 2017.[130][non-primary source needed]\\n\", 'In 2002, Toyota began a development and demonstration program to test the Toyota FCHV, a hybrid hydrogen fuel cell vehicle based on the Toyota Highlander production SUV. Toyota also built a FCHV bus based on the Hino Blue Ribbon City low-floor bus.[131][132][non-primary source needed] Toyota has built several prototypes/concepts of the FCHV since 1997, including the Toyota FCHV-1, FCHV-2, FCHV-3, FCHV-4, and Toyota FCHV-adv. The Toyota FCV-R fuel cell concept car was unveiled at the 2011 Tokyo Motor Show. The FCV-R sedan seats four and has a fuel cell stack including a 70 MPa high-pressure hydrogen tank, which can deliver a range of 435\\xa0mi (700\\xa0km) under the Japanese JC08 test cycle. Toyota said the car was planned for launch in about 2015.[133]\\n', 'In August 2012, Toyota announced its plans to start retail sales of a hydrogen fuel-cell sedan in California in 2015. Toyota expects to become a leader in this technology.[134] The prototype of its first hydrogen fuel cell vehicle will be exhibited at the November 2013 Tokyo Motor Show, and in the United States at the January 2014 Consumer Electronics Show.[135]\\n', 'Toyota\\'s first hydrogen fuel-cell vehicles to be sold commercially, the Toyota Mirai (Japanese for \"future\"), was unveiled at the November 2014 Los Angeles Auto Show.[136] In January 2015, it was announced that production of the Mirai fuel cell vehicle would increase from 700 units in 2015 to approximately 2,000 in 2016 and 3,000 in 2017.[137][non-primary source needed] Sales in Japan began on December 15, 2014, at a price of ¥6,700,000 (~US$57,400). The Japanese government plans to support the commercialization of fuel-cell vehicles with a subsidy of ¥2,000,000 (~US$19,600).[138] Retail sales in the U.S. began in August 2015 at a price of US$57,500 before any government incentives. Initially, the Mirai will only be available in California.[139][140] The market release in Europe is slated for September 2015, and initially will be available only in the UK, Germany, and Denmark, followed by other countries in 2017. Pricing in Germany starts at €60,000 (~US$75,140) plus VAT (€78,540).[141][non-primary source needed]\\n', 'In 2015, Toyota released 5,600 patents for free use until 2020, hoping to promote global development of hydrogen fuel-cell technology.[142][143][144][145]\\n', \"Since the mid-2010s, Toyota has increased its focus on building hydrogen powered trucks. It first showcased a heavy-duty semi-truck tractor in 2017[146] and in 2023 announced a kit to convert existing diesel-powered truck engines to use hydrogen.[147] In late 2022, the company signed an £11.3 million government deal with the UK's Department for Business, Energy and Industrial Strategy to help it develop a hydrogen-powered Hilux pickup truck.[148]\\n\", \"The Prius Plug-In Hybrid Concept was exhibited in late 2009, and shortly after, a global demonstration program involving 600 pre-production test cars began. The vehicles were leased to fleet and government customers, and were equipped with data tracking devices to allow Toyota to monitor the car's performance. The vehicle was based on the third-generation Toyota Prius and outfitted with two additional lithium-ion batteries beyond the normal hybrid battery pack.[149] The additional batteries were used to operate the car with minimal use of the internal combustion engine until they are depleted, at which point they are disengaged from the system. They are not used in tandem with the main hybrid battery pack.\\n\", 'After the conclusion of the demonstration program, the production version of the Prius Plug-in Hybrid was unveiled in September 2011. The production Prius Plug-in had a maximum electric-only speed of 100\\xa0km/h (62\\xa0mph), and the United States Environmental Protection Agency (EPA) rated the vehicle as having a range of 18 kilometres (11\\xa0mi) in blended mode (mostly electric, but supplemented by the internal combustion engine).[150] Toyota ultimately only did a small production run with 75,400 vehicles being produced between 2012 and 2016.[151]\\n', 'The second-generation Prius Plug-in (renamed the Prius Prime in the US) was unveiled in early 2016.[152] Unlike the prior generation, where the plug-in battery was limited by being added to the existing Prius, this model would be developed in tandem with the fourth-generation Prius, allowing Toyota to increase the range to 40 kilometres (25\\xa0mi), with a top speed of 135\\xa0km/h (84\\xa0mph), without needing the assistance of the internal combustion engine.[153] The second-generation Prius Plug-in went on sale starting in late 2016, with Toyota expecting to sell up to 60,000 units globally per year.[154]\\n', \"A second plug-in hybrid model, the Toyota RAV4 PHV (RAV4 Prime in the US) was unveiled in December 2019. The vehicle has an EPA-estimated 68 kilometres (42\\xa0mi) of all-electric range and generates a combined 225 kilowatts (302\\xa0hp), enabling it to be Toyota's second fastest car currently in production (behind the GR Supra 3.0 sports car).[155] Sales started in mid-2020.\\n\", 'Toyota has been criticized for being slow to add battery electric vehicles to its lineup. It has been publicly skeptical of battery-electric vehicles, instead focusing on hybrid and hydrogen fuel cell vehicles,[156] and actively lobbying against government mandates to transition to zero-emissions vehicles.[157]\\n', 'As of 2023[update], only a small proportion of the vehicles the company sells are of battery electric, which has prompted criticism by some environmental and public interest groups.[158][159] The company plans to increase its sales of electric vehicles to 3.5 million per year by 2030.[99] However, the company has stated that it believes other technologies, including hybrid and hydrogen fuel cell vehicles, will continue to play a role in the future of the company.[160][161]\\n', 'Toyota created the first generation Toyota RAV4 EV (Electric Vehicle) as a compliance car after the California Air Resources Board mandated in the late 1990s that every automaker offer a zero-emissions vehicle.[162][163] A total of 1,484 were leased and/or sold in California from 1997 to 2003, when the state dropped its mandate under legal pressure from lawsuits filed by automakers.[164]\\n', 'A second generation of the RAV4 EV was developed in 2010 as part of a deal with Tesla. The production version was unveiled in August 2012, using battery pack, electronics and powertrain components from Tesla.[165][166] The RAV4 EV had a limited production run with just under 3,000 vehicles being produced, before it was discontinued in 2014.[167][168] According to Bloomberg News, the partnership between Tesla and Toyota was \"marred by clashes between engineers\".[169]\\n', 'Starting in 2009, Toyota introduced three generations of concept electric vehicles called the FT-EV built on a modified Toyota iQ platform. In late-2012, the company announced plans to build a production version of the car called the Toyota iQ EV (Scion iQ EV in the US, Toyota eQ in Japan),[170] but ultimately production was cut back to 100 cars for special fleet use in Japan and the U.S. only.[156]\\n', 'In late 2012, Toyota announced that it would back away from fully electric vehicles, after producing less than 5,000. At the time, the company\\'s vice chairman, Takeshi Uchiyamada, said: \"The current capabilities of electric vehicles do not meet society\\'s needs, whether it may be the distance the cars can run, or the costs, or how it takes a long time to charge.\"\\n', \"A shift in Toyota's formerly battery-agnostic posture could be seen as early as 2016, when Toyota's CFO Takahiko Ijichi “sent a strong signal that Toyota soon plans to jump on the battery bandwagon and make electric cars despite expressing skeptical views about their range and charging times,” as the Wall Street Journal wrote.[171] Toyota said it would make and sell battery-electric vehicles if and where regulations and markets demand.\\n\", 'A year later, Toyota outlined its electric-vehicle plans for between 2020 and 2030 to the press in Tokyo, saying it would introduce \"more than 10\" battery-electric vehicles worldwide by the early 2020s, beginning in China, and later in Japan, Europe, the US and India.[172]\\n', 'In April 2019, Toyota introduced the C-HR EV, its first mass-produced pure electric model in China along with an identical twin called the IZOA EV.[173][non-primary source needed] It went on sale in April 2020 and May 2020 respectively. Nikkei reported in October 2020 that Toyota had only sold less than 2,000 units in the first eight months of the year.[174]\\n', 'Toyota introduced the C+pod in late 2020, a 2-seater kei car with an estimated range of 100 kilometres (62\\xa0mi) and a top speed of 60 kilometres per hour (37\\xa0mph).[175][176]\\n', 'In December 2020, Toyota CEO Akio Toyoda stated that electric cars are excessively \"hyped\" and that, in Japan, they would not necessarily reduce carbon dioxide emissions since electricity is mostly generated by burning coal and natural gas in the country. He also said that the infrastructure needed for Japan to switch fully to EVs would cost between $135 billion and $358 billion and switching only to EVs would cost millions of jobs and make cars less affordable.[177]\\n', 'In April 2021, Toyota revealed the bZ4X, an electric crossover SUV that will be the first vehicle built on a dedicated electric platform called e-TNGA when it goes on sale in mid-2022.[178] It is the first model of the bZ (\"beyond Zero\") series of battery electric vehicles.[179] The company has also stated that there will be seven \"bZ\" models to be launched globally out of 15 BEV models by 2025.[180][non-primary source needed]\\n', 'In June 2021, Transport & Environment ranked Toyota as the least ready OEM to transition to battery electric vehicles by 2030, stating: \"Toyota has not set a target for 2030 and it plans to produce just 10% BEVs in 2025. It is expected to rely on polluting hybrid technologies.\"[181]\\n', \"In December 2021, Toyota announced in Tokyo plans for 30 battery-electric models by 2030, to sell 3.5 million BEVs per year by that date, and that its premium-brand Lexus will be 100% battery-operated by 2030 in North America, Europe, and China. The company announced investments of $70 billion into the company's electrification.[182]\\n\", 'In a session in parallel with the G-7 Meeting 2023 May, Akio Toyoda said that battery electric vehicles are not solely the future, instead offering a mix of battery electric, internal combustion engine-equipped and hydrogen cars.[159]\\n', 'Toyota has been developing solid-state batteries in partnership with Panasonic, in which the company has more than a thousand patents covering solid-state batteries by late 2020.[183] The technology has been implemented on the Toyota LQ concept. Toyota hopes the technology could increase efficiency of battery electric vehicles by 30 percent, which in turn would reduce battery costs by the same amount.[183]\\n', 'Toyota is also regarded as lagging when it comes to developing smart car technology.[184] Although the company unveiled its first self-driving test vehicle in 2017, and has been developing its own self-driving technology named \"Chauffeur\" (intended for full self-driving) and \"Guardian\" (a driver assist system), neither of these has been introduced into any production vehicles.[185]\\n', \"The company had set up a large research and development operation by 2018, spending almost US$4 billion to start an autonomous vehicle research institute in California's Silicon Valley[184] and another ¥300 billion on a similar research institute in Tokyo that would partner with fellow Toyota Group companies and automotive suppliers Aisin Seiki and Denso.[186][187]\\n\", 'Toyota has also been collaborating with autonomous vehicle technology developers and, in some cases, purchasing the companies. Toyota has acquired the autonomous vehicle division of ride-hailing service Lyft for $550 million,[188] invested a total of US$1 billion in competing ride-hailing service Uber\\'s self-driving vehicle division,[189][190] invested $400 million in autonomous vehicle technology company Pony.ai,[191] and announced a partnership with Chinese electronics e-commerce company Cogobuy to build a \"Smart Car Ecosystem.\"[192]\\n', 'In December 2020, Toyota showcased the 20-passenger \"e-Palette\" shared autonomous vehicle, which saw its first major use at the 2020 Summer Olympics in Tokyo.[193][194] Toyota has announced it intends to have the vehicle available for commercial applications before 2025.[195]\\n', 'Since February 2021, Toyota has been building the \"Woven City\" which it calls a \"175-acre high tech, sensor-laden metropolis\" at the foot of Mount Fuji. When completed in 2024, the Woven City will be used to run tests on autonomous vehicles for deliveries, transport and mobile shops, with the city\\'s residents participating in the living laboratory experiment.[196][197]\\n', 'Toyota has been involved in many global motorsports series, providing vehicles, engines and other auto parts under both the Toyota and Lexus brands.\\n', \"Toyota Gazoo Racing (GR) is Toyota's performance brand that is used in many of the world's major motorsports contests. Toyota Gazoo Racing Europe, based in Cologne, Germany, competes in the FIA World Endurance Championship, while the Finland-based Toyota Gazoo Racing WRT participates in the FIA World Rally Championship. Toyota Gazoo Racing South Africa competes in the Dakar Rally. Between 2002 and 2009, the Toyota Racing team competed in Formula One. Toyota won the highest class of the 24 Hours of Le Mans 5 consecutive times from 2018 to 2022, competing with the Toyota TS050 Hybrid and Toyota GR010 Hybrid.\\n\", 'Toyota Racing Development USA (TRD USA) is responsible for participation in major motorsports contests in the United States including NASCAR, NHRA, Indy Racing League and Formula Drift.\\n', 'Toyota also makes engines and other auto parts for other Japanese motorsports including Super Formula, Super GT, Formula 3, and Toyota Racing Series.\\n', 'Toyota is a minority shareholder in Mitsubishi Aircraft Corporation, having invested US$67.2\\xa0million in the new venture which will produce the Mitsubishi Regional Jet, slated for first deliveries in 2017.[198] Toyota has also studied participation in the general aviation market and contracted with Scaled Composites to produce a proof of concept aircraft, the TAA-1, in 2002.[199][200]\\n', 'In 1997, building on a previous partnership with Yamaha Marine, Toyota created \"Toyota Marine\",[201][non-primary source needed] building private ownership motorboats, currently sold only in Japan. A small network in Japan sells the luxury craft at 54 locations, called the \"Toyota Ponam\" series, and in 2017, a boat was labeled under the Lexus brand name starting May 26, 2017.[202]\\n', 'Toyota works with nonprofits to improve their processes and operations such as the Food Bank For New York City.[203][204]\\n', 'In 2004, Toyota showcased its trumpet-playing robot.[205] Toyota has been developing multitask robots destined for elderly care, manufacturing, and entertainment. A specific example of Toyota\\'s involvement in robotics for the elderly is the Brain Machine Interface. Designed for use with wheelchairs, it \"allows a person to control an electric wheelchair accurately, almost in real-time\", with his or her mind.[206] The thought controls allow the wheelchair to go left, right, and forward with a delay between thought and movement of just 125\\xa0milliseconds.[206] Toyota also played a part in the development of Kirobo, a \\'robotic astronaut\\'.\\n', 'In 2017, the company introduced T-HR3, a humanoid robot with the ability to be remotely controlled. The robot can copy the motions of a connected person. The 2017 version used wires for the connection but the 2018 version used 5G from a distance up to 10\\xa0km (6.2\\xa0mi).[207][208]\\n', 'Aisin, another member of the Toyota Group of companies, uses the same Toyota wordmark logo to market its home-use sewing machines. Aisin was founded by Kiichiro Toyoda after he founded the Toyota Motor Corporation. According to Aisin, he was so pleased with the first sewing machine, he decided to apply the same Toyota branding as his auto business, despite the companies being independent from each other.[209]\\n', 'Toyota Ventures, along with JetBlue Technology Ventures and Parley for the Oceans, is among the corporate investors that have invested $40 million in the Air Company, a carbon negative vodka distiller and perfume and hand sanitizer manufacturer that uses heterogeneous catalysis to convert captured carbon into ethanol.[210]\\n', 'Toyota states it is committed to achieving carbon neutrality by 2050, and it has set a goal to reduce its overall carbon emissions by 90% by 2050, compared to 2010 levels.[211][212]\\n', 'The company has invested heavily in solar energy, with a goal to install solar panels on the rooftops of all its dealerships worldwide by 2050.[213] In addition, Toyota has partnered with various renewable energy companies to promote the use of wind and solar power, including a recent partnership with ENEOS Corporation to develop hydrogen refueling stations in Japan.[214]\\n', 'Toyota has launched a program called \"Global Environmental Challenge\" 2050 which is a comprehensive initiative aimed at reducing the environmental impact of Toyota\\'s operations. The challenge includes six environmental goals that Toyota aims to achieve by 2050, including reducing carbon emissions, minimizing water usage, promoting the recycling and reuse of materials, and promoting the use of renewable energy.[215] The company has also implemented a variety of initiatives to promote sustainability across its supply chain, including efforts to reduce waste, water usage, and promote sustainable agriculture. For example, Toyota has implemented a zero-waste initiative at its manufacturing plants, aiming to send zero waste to landfills.[216]\\n', \"In November 2016, Toyota agreed to pay $3.4 billion to settle allegations that roughly one-and-a-half million of its Tacoma, Tundra, and Sequoia pickup trucks and SUVs had been outfitted with frames prone to corrosion and perforation. According to court papers, the corrosion could reach levels high enough to compromise the vehicle's structural integrity.[217]\\n\", 'On February 9, 2002, Kenichi Uchino, aged 30 years, a quality control manager, collapsed then died at work.[218][219] On January 2, 2006, an unnamed chief engineer of the Camry Hybrid, aged 45 years, died from heart failure in his bed.[218]\\n', 'In 2003, Toyota was fined $34 million for violating the United States Clean Air Act, as 2.2 million vehicles it sold had defective smog-control computers.[220]\\n', 'In January 2021, Toyota was fined $180 million for delays in reporting emissions-related defects to the U.S. Environmental Protection Agency (EPA) between 2005 and 2015.[89][221][222] The acting U.S. attorney said that the delays \"likely led to delayed or avoided emissions-related recalls\", although Toyota stated that despite the delays in reporting the issues to the EPA, it had notified customers and fixed the cars with the emissions defects.[222] At the time, this was the biggest civil penalty ever levied for violating the EPA\\'s emission reporting requirements.[89][221]\\n', \"Between 2009 and 2011 Toyota, under pressure from the U.S. National Highway Traffic Safety Administration (NHTSA), conducted recalls of millions of vehicles after reports that several drivers experienced unintended acceleration. The first recall, in November 2009, was to prevent a front driver's side floor mat from sliding into the foot pedal well, causing the pedals to become trapped. The second recall, in January 2010, was begun after some crashes were shown not to have been caused by floor mats and may be caused by possible mechanical sticking of the accelerator pedal.[66] Worldwide, approximately 9 million cars and trucks were impacted by the recalls.[68]\\n\", 'NHTSA received reports of a total of 37 deaths allegedly related to unintended acceleration, although an exact number was never verified.[67] As a result of the problems, Toyota faced nearly 100 lawsuits from the families of those killed, drivers who were injured, vehicle owners who lost resale value, and investors who saw a drop in the value of their shares. While most of the personal injury and wrongful death lawsuits were settled confidentially,[69] Toyota did spend more than US$1 billion to settle a class action lawsuit to compensate owners for lost resale value,[70] and the company agreed to pay a US$1.2 billion criminal penalty to the United States government over accusations that it had intentionally hid information about safety defects from the public and had made deceptive statements to protect its brand image. The penalty was the largest ever levied against a car company.[71]\\n', 'Toyota was impacted by a recall of faulty airbag inflators made by Takata. The inflators can explode, shooting metal fragments into the vehicle cabin. Millions of vehicles produced between 2000 and 2014 were impacted by the recall, with some needing multiple repairs.[223][224] As of January\\xa02024[update], over 100 million Takata air bag inflators worldwide have been recalled by more than 20 carmakers.[225]\\n', 'On June 21, 2010, a Chinese labor strike happened in Tianjin Toyoda Gosei Co, Tianjin. Workers demanded better wages and treatment.[226]\\n', \"In 2015, U.S. officials asked Toyota how the Islamic State was in possession of so many Toyota trucks.[227] Toyota cars have also been documented to have been used by other extremist organizations such as the Taliban, Hamas, Al-shabab and Somali pirates.[228][229][230] Toyota representatives have said the company has a strict policy to not sell vehicles to potential purchasers who may use or modify them for paramilitary or terrorist activities and that it cannot track aftermarket sales and that it has worked with the U.S Treasury to brief them on Toyota's supply chain on the Middle East.[231]\\n\", 'In its marketing, Toyota has often referred to its non-plug-in hybrid vehicles as \"self-charging hybrid\" vehicles. The use of the term has caused some criticism that this is misleading, as some consumers were led to erroneously believe that these vehicles charge their batteries on their own when the vehicles are not used.[232] Complaints about self-charging hybrid advertising were recorded in Ireland, although the complaints were rejected by the Advertising Standards Authority of Ireland.[233] However, in 2020, the Norwegian Consumer Authority banned the adverts outright in Norway, stating: \"It is misleading to give the impression that the power to the hybrid battery is free of charge, since the electricity produced by the car has consumption of gasoline as a necessary condition.\"[234]\\n', 'Electric vehicle website IrishEVs criticised Toyota Ireland for paying University College Dublin to conduct a study of only seven examples of their hybrid cars over seven days to make a press release about the efficiency of the vehicles.[235][236] The website also criticised Toyota Ireland for using opinion polls to substantiate a claim about their CO2 emissions on Twitter.[237]\\n', 'In April 2023, it was revealed that Toyota subsidiary Daihatsu had cheated by rigging some models to perform better in crash tests than actual production cars. The vehicles in question had a notch in the interior panel of the front door which avoided the possibility of the collision creating a sharp edge that could have injured an occupant when the side airbag deployed. This notch was present on the tested vehicles but not on vehicles sold to the public.[238]\\n', 'The issue affected four models, the Toyota Yaris Ativ (also known as the Vios), Perodua Axia, Toyota Agya, and an undisclosed upcoming product. No recall was conducted over the issue.[238]\\n', 'In December 2023, Daihatsu halted shipments of 64 models, including two dozens branded as Toyota, after safety investigations uncovered misconduct far greater in scope than previously expected. In some models, the test speeds and results of headrest impact tests were falsified. In models such as the TownAce and Pixis Joy, the airbag control unit used in testing was different from the part installed on vehicles sold to the public. Affected markets included Japan as well as Bolivia, Cambodia, Chile, Ecuador, Indonesia, Malaysia, Mexico, Peru, Thailand, Uruguay, and Vietnam.[239]\\n', 'On 29 January 2024, Koji Sato publicly apologized to customers, dealers and suppliers for the flawed testing.[240]\\n', 'Toyota is headquartered in the city of Toyota,[241][242] which was named Koromo until 1951, when it changed its name to match the automaker. Toyota City is located in the Aichi Prefecture of Japan. The main headquarters of Toyota is located in a four-story building that has been described as \"modest\".[243] In 2013, company CEO Akio Toyoda reported that it had difficulties retaining foreign employees at the headquarters due to the lack of amenities in the city.[244]\\n', 'Surrounding the headquarters are the 14-story Toyota Technical Center and the Honsha plant (which was established in 1938). Toyota and its Toyota Group affiliates operate a total of 17 manufacturing facilities in Aichi Prefecture and a total of 32 plants in Japan.\\n', 'Toyota also operates offices in Bunkyo, Tokyo, and Nakamura-ku, Nagoya.[241][non-primary source needed]\\n', \"Outside of Japan, as one of the world's largest automotive manufacturer by production volume, Toyota has factories in most parts of the world. The company assembles vehicles in Argentina, Belgium, Brazil, Canada, Colombia, the Czech Republic, France, Indonesia, Mexico, the Philippines, Poland, Russia, South Africa, Thailand, Turkey, the United Kingdom, the United States, and Venezuela.\\n\", 'Additionally, the company also has joint venture, licensed, or contract factories in China, France, India, Malaysia, Pakistan, Taiwan, the United States, and Vietnam.\\n', \"Toyota Motor North America is headquartered in Plano, Texas, and operates as a holding company for all operations of the Toyota Motor Corporation in Canada, Mexico, and the United States. Toyota's operations in North America began on October 31, 1957, and the current company was established in 2017 from the consolidation of three companies: Toyota Motor North America, Inc., which controlled Toyota's corporate functions; Toyota Motor Sales, U.S.A., Inc. which handled marketing, sales, and distribution in the United States; and Toyota Motor Engineering & Manufacturing North America which oversaw operations at all assembly plants in the region. While all three companies continue to exist in legal name, they operate as one company out of one headquarters campus.\\n\", 'Toyota has a large presence in the United States with six major assembly plants in Huntsville, Alabama, Georgetown, Kentucky, Princeton, Indiana, San Antonio, Texas, Buffalo, West Virginia, and Blue Springs, Mississippi. In 2018, Toyota and Mazda announced a joint venture plant that will produce vehicles in Huntsville, Alabama, starting in 2021.[246][non-primary source needed]\\n', 'It has started producing larger trucks, such as the new Tundra, to go after the full-size pickup market in the United States. Toyota is also pushing hybrid electric vehicle in the US such as the Prius, Camry Hybrid, Highlander Hybrid, and various Lexus products. Toyota never introduced diesel motor options in its North American products, including pickup trucks.[247][non-primary source needed]\\n', \"Toyota Canada Inc., which is part of Toyota Motor North America, handles marketing, sales, and distribution in Canada. Toyota Motor Manufacturing Canada operates three assembly plants: two in Cambridge, Ontario and one in Woodstock, Ontario.[248] In 2006, Toyota's subsidiary Hino Motors opened a heavy duty truck plant, also in Woodstock, employing 45 people and producing 2,000 trucks annually.[249]\\n\", \"Toyota Motor Europe is headquartered in Brussels, Belgium, and oversees all operations of the Toyota Motor Corporation in Europe and western Asia. Toyota's operations in Europe began in 1963. Toyota has a significant presence in Europe with nine production facilities in Kolín, Czech Republic, Burnaston, England, Deeside, England, Onnaing, France, Jelcz-Laskowice, Poland, Wałbrzych, Poland, Ovar, Portugal, Saint Petersburg, Russia, and Arifiye, Turkey.[250][non-primary source needed] Toyota also operates a joint venture plant with Citroën and Peugeot in Valenciennes, France.\\n\", \"In 1963, Australia was one of the first countries to assemble Toyotas outside Japan. However, in February 2014, Toyota was the last of Australia's major automakers to announce the end of production in Australia. The closure of Toyota's Australian plant was completed on October 3, 2017, and had produced a total 3,451,155 vehicles. At its peak in October 2007, Toyota manufactured 15,000 cars a month.[251][non-primary source needed] Before Toyota, Ford and GM's Holden had announced similar moves, all citing an unfavorable currency and attendant high manufacturing costs.[252]\\n\", \"The Toyota Way is a set of principles and behaviors that underlie the company's approach to management and production (which is further defined as the Toyota Production System).\\n\", 'The company has been developing its corporate philosophy since 1948 and passing it on as implicit knowledge to new employees, but as the company expanded globally, leaders officially identified and defined the Toyota Way in 2001. Toyota summarized it under two main pillars: continuous improvement and respect for people. Under the continuous improvement pillar are three principles: challenge (form a long-term vision), kaizen (a continual improvement process), and genchi genbutsu (\"go and see\" the process to make correct decisions). Under the respect for people pillar are two principles: respect and teamwork.[253][non-primary source needed]\\n', 'In 2004, Dr. Jeffrey Liker, a University of Michigan professor of industrial engineering, published The Toyota Way. In his book, Liker calls the Toyota Way \"a system designed to provide the tools for people to continually improve their work.\"[254] According to Liker, there are 14 principles of The Toyota Way that can be organized into four themes: (1) long-term philosophy, (2) the right process will produce the right results, (3) add value to the organization by developing your people, and (4) continuously solving root problems drives organizational learning. The 14 principles are further defined in the Wikipedia article on The Toyota Way.\\n', \"The Toyota Way also helped shape the company's approach to production, where it was an early pioneer of what would become known as lean manufacturing.[255] The company defines the Toyota Production System under two main pillars: just-in-time[256][full citation needed] (make only what is needed, only when it is needed, and only in the amount that is needed) and Jidoka[257][full citation needed] (automation with a human touch).\\n\", 'The origin of the Toyota Production System is in dispute, with three stories of its origin: (1) that during a 1950 trip to train with the Ford Motor Company, company executives also studied the just-in-time distribution system of the grocery store company Piggly-Wiggly,[258] (2) that they followed the writings of W. Edwards Deming,[259] and (3) they learned the principles from a WWII US government training program (Training Within Industry).[260]\\n', 'After developing the Toyota Production System in its own facilities, the company began teaching the system to its parts suppliers in the 1990s. Other companies were interested in the instruction, and Toyota later started offering training sessions. The company also has donated the training to non-profit groups to increase their efficiency and thus ability to serve people.\\n', 'In 1936, Toyota entered the passenger car market with its Model AA and held a competition to establish a new logo emphasizing speed for its new product line. After receiving 27,000 entries, one was selected that additionally resulted in a change of its moniker to \"Toyota\" from the family name \"Toyoda\", which means rice paddy. The new name was believed to sound better, and its eight-stroke count in the Japanese language was associated with wealth and good fortune. The original logo was a heavily stylized version of the katakana characters for Toyota (トヨタ).[261]\\n', 'As the company started to expand internationally in the late 1950s, the katakana character logo was supplemented by various wordmarks with the English form of the company name in all capital letters, \"TOYOTA.\"[261]\\n', 'Toyota introduced a worldwide logo in October 1989 to commemorate the 50th year of the company, and to differentiate it from the newly released luxury Lexus brand.[262] The logo consists of three ovals that combine to form the letter \"T\", which stands for Toyota. Toyota says that the overlapping of the two perpendicular ovals inside the larger oval represents the mutually beneficial relationship and trust between the customer and the company while the larger oval surrounding both of these inner ovals represents the \"global expansion of Toyota\\'s technology and unlimited potential for the future\".[263][264][non-primary source needed] The new logo started appearing on all printed material, advertisements, dealer signage, and most vehicles in 1990.\\n', 'In countries or regions using traditional Chinese characters, e.g. Hong Kong and Taiwan, Toyota is known as \"豐田\".[265] In countries using simplified Chinese characters (e.g. China and Singapore), Toyota is written as \"丰田\"[266][non-primary source needed] (pronounced as Fēngtián in Mandarin Chinese and Hɔng Tshan in Minnanese). These are the same characters as the founding family\\'s name \"Toyoda\" in Japanese.\\n', 'Toyota still uses the katakana character logo as its corporate emblem in Japan, including on the headquarters building,[267] and some special edition models still use the \"TOYOTA\" wordmark on the grille as a nod to the company\\'s heritage.[268]\\n', 'On July 15, 2015, the company was delegated its own generic top-level domain, .toyota.[269]\\n', 'Toyota sponsors several teams and has purchased naming rights for several venues, and even competitions, including:\\n', 'As of 2017[update], Toyota is an official sponsor of Cricket Australia,[270][271][272] the England and Wales Cricket Board[273] and the Australian Football League.[274][non-primary source needed]\\n', 'In March 2015, Toyota became a sponsor for the Olympic Games and Paralympic Games in the form of supplying vehicles and communications between vehicles, starting in 2018.[275][non-primary source needed] In May 2024, Toyota announced that it will not be extending the contract after the 2024 games in Paris, due the company reportedly being unhappy with how the IOC has used its sponsorship money. Toyota hopes to retain its contract with the International Paralympic Committee.[276]\\n', 'Toyota had previously sponsored football clubs Valencia (2003–2008), Fiorentina (1999–2002 and 2004–2010), Perugia (2002–2004), Catania (2003–2004) and Valenciennes (2005–2012).[citation needed]\\n']\n"
          ]
        }
      ]
    },
    {
      "cell_type": "markdown",
      "source": [
        "Installing the dependencies"
      ],
      "metadata": {
        "id": "A61b2uTUdw-g"
      }
    },
    {
      "cell_type": "code",
      "source": [
        "!pip install -qU \\\n",
        "    cohere \\\n",
        "    pinecone\\\n",
        "    langchain"
      ],
      "metadata": {
        "id": "YUDwi1cvdil4",
        "colab": {
          "base_uri": "https://localhost:8080/"
        },
        "outputId": "5a9eedfb-a504-44a7-eda6-d9394640866c"
      },
      "execution_count": 4,
      "outputs": [
        {
          "output_type": "stream",
          "name": "stdout",
          "text": [
            "\u001b[2K     \u001b[90m━━━━━━━━━━━━━━━━━━━━━━━━━━━━━━━━━━━━━━━━\u001b[0m \u001b[32m50.6/50.6 kB\u001b[0m \u001b[31m2.7 MB/s\u001b[0m eta \u001b[36m0:00:00\u001b[0m\n",
            "\u001b[2K   \u001b[90m━━━━━━━━━━━━━━━━━━━━━━━━━━━━━━━━━━━━━━━━\u001b[0m \u001b[32m249.7/249.7 kB\u001b[0m \u001b[31m13.1 MB/s\u001b[0m eta \u001b[36m0:00:00\u001b[0m\n",
            "\u001b[2K   \u001b[90m━━━━━━━━━━━━━━━━━━━━━━━━━━━━━━━━━━━━━━━━\u001b[0m \u001b[32m419.8/419.8 kB\u001b[0m \u001b[31m20.3 MB/s\u001b[0m eta \u001b[36m0:00:00\u001b[0m\n",
            "\u001b[2K   \u001b[90m━━━━━━━━━━━━━━━━━━━━━━━━━━━━━━━━━━━━━━━━\u001b[0m \u001b[32m1.0/1.0 MB\u001b[0m \u001b[31m33.1 MB/s\u001b[0m eta \u001b[36m0:00:00\u001b[0m\n",
            "\u001b[2K   \u001b[90m━━━━━━━━━━━━━━━━━━━━━━━━━━━━━━━━━━━━━━━━\u001b[0m \u001b[32m3.1/3.1 MB\u001b[0m \u001b[31m44.6 MB/s\u001b[0m eta \u001b[36m0:00:00\u001b[0m\n",
            "\u001b[2K   \u001b[90m━━━━━━━━━━━━━━━━━━━━━━━━━━━━━━━━━━━━━━━━\u001b[0m \u001b[32m76.4/76.4 kB\u001b[0m \u001b[31m4.8 MB/s\u001b[0m eta \u001b[36m0:00:00\u001b[0m\n",
            "\u001b[2K   \u001b[90m━━━━━━━━━━━━━━━━━━━━━━━━━━━━━━━━━━━━━━━━\u001b[0m \u001b[32m78.0/78.0 kB\u001b[0m \u001b[31m4.9 MB/s\u001b[0m eta \u001b[36m0:00:00\u001b[0m\n",
            "\u001b[2K   \u001b[90m━━━━━━━━━━━━━━━━━━━━━━━━━━━━━━━━━━━━━━━━\u001b[0m \u001b[32m407.7/407.7 kB\u001b[0m \u001b[31m19.2 MB/s\u001b[0m eta \u001b[36m0:00:00\u001b[0m\n",
            "\u001b[2K   \u001b[90m━━━━━━━━━━━━━━━━━━━━━━━━━━━━━━━━━━━━━━━━\u001b[0m \u001b[32m296.7/296.7 kB\u001b[0m \u001b[31m16.3 MB/s\u001b[0m eta \u001b[36m0:00:00\u001b[0m\n",
            "\u001b[2K   \u001b[90m━━━━━━━━━━━━━━━━━━━━━━━━━━━━━━━━━━━━━━━━\u001b[0m \u001b[32m85.4/85.4 kB\u001b[0m \u001b[31m5.9 MB/s\u001b[0m eta \u001b[36m0:00:00\u001b[0m\n",
            "\u001b[2K   \u001b[90m━━━━━━━━━━━━━━━━━━━━━━━━━━━━━━━━━━━━━━━━\u001b[0m \u001b[32m144.5/144.5 kB\u001b[0m \u001b[31m8.0 MB/s\u001b[0m eta \u001b[36m0:00:00\u001b[0m\n",
            "\u001b[2K   \u001b[90m━━━━━━━━━━━━━━━━━━━━━━━━━━━━━━━━━━━━━━━━\u001b[0m \u001b[32m54.5/54.5 kB\u001b[0m \u001b[31m3.2 MB/s\u001b[0m eta \u001b[36m0:00:00\u001b[0m\n",
            "\u001b[2K   \u001b[90m━━━━━━━━━━━━━━━━━━━━━━━━━━━━━━━━━━━━━━━━\u001b[0m \u001b[32m58.3/58.3 kB\u001b[0m \u001b[31m3.3 MB/s\u001b[0m eta \u001b[36m0:00:00\u001b[0m\n",
            "\u001b[?25h"
          ]
        }
      ]
    },
    {
      "cell_type": "markdown",
      "source": [
        "Setting up a system from breaking down the data into chunks so that it can be processed better if the data is very large"
      ],
      "metadata": {
        "id": "RBpqTXxxd90n"
      }
    },
    {
      "cell_type": "code",
      "source": [
        "from langchain.text_splitter import RecursiveCharacterTextSplitter\n",
        "\n",
        "text_splitter = RecursiveCharacterTextSplitter(\n",
        "    chunk_size=1500,\n",
        "    chunk_overlap=20,\n",
        "    separators=[\"\\n\\n\", \"\\n\", \" \", \"\"]\n",
        ")\n",
        "\n",
        "# joining the data into a string to split it\n",
        "text_to_split = \"\".join(scraped_data)"
      ],
      "metadata": {
        "id": "cJw6co00dzb4"
      },
      "execution_count": 5,
      "outputs": []
    },
    {
      "cell_type": "markdown",
      "source": [
        "Example of the created chunks"
      ],
      "metadata": {
        "id": "f81J-KgPgbCu"
      }
    },
    {
      "cell_type": "code",
      "source": [
        "chunks = text_splitter.split_text(text_to_split)\n",
        "chunks[1]"
      ],
      "metadata": {
        "colab": {
          "base_uri": "https://localhost:8080/",
          "height": 140
        },
        "id": "pgVzydeLeyt-",
        "outputId": "9b532536-89bd-4218-8a5f-82b777681389"
      },
      "execution_count": 6,
      "outputs": [
        {
          "output_type": "execute_result",
          "data": {
            "text/plain": [
              "\"In the 1960s, Toyota took advantage of the rapidly growing Japanese economy to sell cars to a growing middle-class, leading to the development of the Toyota Corolla, which became the world's all-time best-selling automobile. The booming economy also funded an international expansion that allowed Toyota to grow into one of the largest automakers in the world, the largest company in Japan and the ninth-largest company in the world by revenue, as of December\\xa02020[update]. Toyota was the world's first automobile manufacturer to produce more than 10 million vehicles per year, a record set in 2012, when it also reported the production of its 200 millionth vehicle. By September 2023, total production reached 300 million vehicles.[1]\\nToyota was praised for being a leader in the development and sales of more fuel-efficient hybrid electric vehicles, starting with the introduction of the original Toyota Prius in 1997. The company now sells more than 40 hybrid vehicle models around the world. More recently, the company has also been criticized for being slow to adopt all-electric vehicles, instead focusing on the development of hydrogen fuel cell vehicles, like the Toyota Mirai, a technology that is much costlier and has fallen far behind electric batteries in terms of adoption.\""
            ],
            "application/vnd.google.colaboratory.intrinsic+json": {
              "type": "string"
            }
          },
          "metadata": {},
          "execution_count": 6
        }
      ]
    },
    {
      "cell_type": "markdown",
      "source": [
        "# **Creating Embeddings**"
      ],
      "metadata": {
        "id": "ieQD6AxQhHOE"
      }
    },
    {
      "cell_type": "markdown",
      "source": [
        "Setting up the keys"
      ],
      "metadata": {
        "id": "QWtkKw7-hZd6"
      }
    },
    {
      "cell_type": "code",
      "source": [
        "!pip install python-dotenv"
      ],
      "metadata": {
        "colab": {
          "base_uri": "https://localhost:8080/"
        },
        "id": "o5gQVQMakvfh",
        "outputId": "66266530-0cd2-4490-b2a6-03221035e1bd"
      },
      "execution_count": 7,
      "outputs": [
        {
          "output_type": "stream",
          "name": "stdout",
          "text": [
            "Collecting python-dotenv\n",
            "  Downloading python_dotenv-1.0.1-py3-none-any.whl.metadata (23 kB)\n",
            "Downloading python_dotenv-1.0.1-py3-none-any.whl (19 kB)\n",
            "Installing collected packages: python-dotenv\n",
            "Successfully installed python-dotenv-1.0.1\n"
          ]
        }
      ]
    },
    {
      "cell_type": "code",
      "source": [
        "from dotenv import load_dotenv\n",
        "import os\n",
        "\n",
        "\n",
        "load_dotenv()  # Load environment variables from .env file\n",
        "COHERE_API_KEY = os.getenv('COHERE_API_KEY')\n",
        "PINECONE_API_KEY = os.getenv('PINECONE_API_KEY')"
      ],
      "metadata": {
        "id": "cTtz1QAXk3Ug"
      },
      "execution_count": 9,
      "outputs": []
    },
    {
      "cell_type": "code",
      "source": [
        "import cohere\n",
        "from pinecone import Pinecone\n",
        "\n",
        "co = cohere.Client(COHERE_API_KEY)\n",
        "\n",
        "pc = Pinecone(api_key=PINECONE_API_KEY)\n"
      ],
      "metadata": {
        "id": "0FHgBW4plAhJ"
      },
      "execution_count": 11,
      "outputs": []
    },
    {
      "cell_type": "markdown",
      "source": [
        "Using the Cohere \"embed-english-v3.0\" model to generate the embeddings"
      ],
      "metadata": {
        "id": "_1LcAEyZlzE-"
      }
    },
    {
      "cell_type": "code",
      "source": [
        "model=\"embed-english-v3.0\"\n",
        "input_type=\"search_document\"\n",
        "\n",
        "texts = [\"This is a test sentence.\", \"Another sentence for embedding.\"]\n",
        "\n",
        "embeds = co.embed(\n",
        "    texts=texts,\n",
        "    model=model,\n",
        "    input_type=input_type,\n",
        "    embedding_types=['float'])\n",
        "\n",
        "(test1, test2) = embeds.embeddings.float\n",
        "\n",
        "print(test1)"
      ],
      "metadata": {
        "colab": {
          "base_uri": "https://localhost:8080/"
        },
        "id": "gpSFMf4Vlroe",
        "outputId": "12240375-1c65-4d37-d0d8-054fcec62d12"
      },
      "execution_count": 12,
      "outputs": [
        {
          "output_type": "stream",
          "name": "stdout",
          "text": [
            "[-0.009712219, -0.016036987, 2.8073788e-05, -0.022491455, -0.041259766, 0.002281189, -0.033294678, -0.00057029724, -0.026260376, 0.0579834, -0.020874023, -0.0032749176, -0.042022705, 0.024505615, -0.035308838, -0.027236938, -0.006385803, 0.034362793, -0.027175903, -0.017242432, -0.026870728, -0.0076141357, -0.07165527, -0.04296875, 0.031921387, -0.028121948, -0.014099121, 0.02420044, 0.0110321045, -0.0060691833, 0.008773804, -0.0031032562, -0.006587982, 0.034088135, -0.012756348, -0.00554657, -0.022598267, 0.010856628, 0.0023479462, 0.032226562, 0.021362305, -0.0026226044, -0.008834839, -0.018096924, -0.038513184, -0.059020996, 0.068847656, -0.004184723, 0.01436615, -0.039886475, -0.002811432, 0.009223938, -0.0016822815, 0.016983032, -0.033233643, -0.0022411346, -0.044708252, 0.046295166, 0.03768921, 0.0077590942, -0.018569946, 0.03427124, 0.021209717, -0.0063323975, -0.01184845, 0.0019378662, -0.016921997, 0.02835083, 0.0769043, -0.027069092, -0.031555176, 0.0011129379, -0.006679535, -0.0038070679, -0.037963867, -0.0019168854, 0.004524231, 0.0031051636, -0.027404785, -0.008583069, -0.022262573, 0.0077781677, -0.044067383, -0.0018720627, -0.02204895, 0.019317627, 0.011276245, -0.03616333, 0.033477783, -0.05947876, 0.014816284, 0.073791504, -0.027297974, 0.051635742, -0.03652954, -0.009521484, 0.024536133, 0.012870789, -0.011932373, -0.046051025, -0.008659363, -0.052093506, -0.012069702, -0.00497818, 0.0056877136, -0.01499176, -0.03765869, -0.01939392, 0.05480957, 0.055358887, -0.030853271, 0.03845215, 0.0066490173, 0.0034446716, -0.009414673, 0.020431519, -0.007045746, 0.019454956, -0.0067596436, -0.0063972473, -0.012214661, -0.0002040863, 0.05050659, -0.041992188, -8.165836e-06, -0.014770508, -0.023956299, -0.041046143, 0.046020508, -0.045074463, 0.007850647, 0.049224854, -0.119018555, -0.04748535, -0.04345703, 0.023834229, -0.029403687, -0.01953125, -0.029525757, 0.008079529, -0.0112838745, -0.056915283, 0.008987427, -0.0340271, -0.010406494, 0.07409668, 0.050079346, -0.01424408, -0.015312195, -0.059265137, 0.037841797, -0.032196045, 0.012260437, 0.041992188, -0.09008789, 0.035064697, -0.107666016, 0.040496826, 0.01737976, 0.028625488, 0.0051460266, 0.0028800964, 0.026794434, -0.04837036, -0.02168274, -0.0087509155, -0.029571533, 0.002670288, 0.028579712, 0.058685303, -0.053527832, -0.0030155182, 0.06915283, 0.0035915375, -0.021057129, 0.0062789917, -0.0056419373, -0.03390503, 0.02861023, 0.009971619, 0.009292603, -0.030914307, -0.042297363, 0.02784729, 0.010772705, -0.07244873, 0.020568848, -0.042541504, 0.009284973, 0.035369873, -0.018966675, 0.02368164, 0.0006108284, -0.00141716, 0.03918457, -0.013687134, -0.049957275, -0.003063202, -0.008460999, -0.00308609, 0.018798828, 0.00856781, 0.004688263, 0.0018615723, 0.019744873, 0.0016088486, 0.025558472, -0.018966675, 0.0028305054, -0.008460999, -0.0048980713, -0.038726807, 0.003692627, -0.006916046, -0.05050659, 0.017990112, -0.006790161, -0.03640747, 0.0015668869, -0.050079346, 0.06378174, 0.0070343018, 0.00592041, 0.06414795, -0.028640747, 0.0209198, -0.043029785, 0.011367798, -0.03942871, 0.042022705, -0.016098022, -0.022644043, 0.020050049, 0.028747559, -0.017730713, -0.019927979, 0.0035533905, 0.0012311935, -0.0005774498, 0.033935547, -0.0058517456, 0.06365967, -0.020965576, 0.021224976, 0.04196167, 0.052459717, 0.028320312, 0.022903442, -0.027252197, -0.015022278, 0.0049743652, 0.024658203, 0.030426025, 0.044403076, -0.0026054382, 0.0574646, 0.013046265, 0.032409668, 0.02986145, -0.000890255, -0.035949707, 0.037017822, 0.01763916, -0.022262573, 0.021774292, -0.025787354, -0.015106201, -0.012123108, -0.036102295, 0.02154541, 0.026824951, -0.021118164, -0.00082683563, 0.00381279, 0.10101318, -0.020568848, -0.0284729, -0.03652954, -0.0024089813, 0.0021152496, -0.0030021667, 0.028335571, 0.03439331, 0.0042800903, 0.0068244934, 0.07348633, 0.020767212, -0.018341064, 0.02319336, 0.02519226, 0.045166016, 0.016525269, -0.0033092499, 0.040374756, -0.008293152, -0.0058670044, 0.091796875, 0.05114746, -0.018447876, 0.0035362244, -0.012535095, 0.02229309, -0.033569336, 0.024917603, 0.025436401, 0.046325684, 0.0025577545, 0.031082153, 0.0178833, 0.0071029663, -0.029525757, 0.009300232, 0.0020618439, -0.0014257431, 0.014816284, -0.011657715, 0.045898438, 0.007724762, 0.068359375, -0.033721924, 0.09265137, 0.02432251, -0.09295654, -0.026657104, -0.018173218, -0.009407043, -0.05618286, -0.046417236, -0.044891357, 0.009590149, 0.02947998, -0.038726807, -0.01209259, -0.053527832, 0.015136719, -0.013031006, -0.007068634, 0.029800415, -0.0008749962, 0.011375427, 0.022460938, 0.0002553463, 0.037719727, -0.014663696, -0.008659363, -0.009635925, -0.062683105, 0.023712158, -0.03591919, -0.017715454, 0.012969971, -0.021820068, 0.0143966675, 0.061431885, 0.100097656, -0.0340271, -0.04788208, 0.093444824, 0.044708252, -0.0030593872, 0.028121948, -0.017913818, 0.019851685, 0.034423828, -0.025726318, -0.06994629, -0.024291992, 0.038482666, -0.02218628, 0.034240723, 0.06512451, -0.045959473, -0.01096344, 0.0126571655, -0.06335449, -0.024856567, -0.016281128, -0.04977417, -0.0026512146, -0.015136719, 4.887581e-05, 0.017242432, 0.020111084, 0.029006958, 0.020385742, -0.0057296753, 0.03074646, 0.046875, 0.02357483, 0.011100769, -0.01084137, -0.005104065, -0.022232056, -0.029815674, 0.010543823, -4.4465065e-05, 0.032958984, 0.011833191, -0.025100708, -0.020690918, 0.047210693, -0.04168701, -0.024215698, -0.019210815, -0.0463562, -0.030914307, 0.017684937, -0.025161743, 0.0057792664, -0.013420105, -0.0012979507, 0.00025868416, -0.018218994, 0.019210815, -0.011001587, -0.04232788, -0.023132324, 0.0025501251, 0.020065308, 0.011558533, -0.021942139, -0.0066223145, -0.03942871, -0.009315491, -0.010597229, -0.015472412, 0.06329346, 0.009483337, 0.044311523, 0.00869751, 0.022537231, -0.01927185, -0.036956787, -0.024215698, -0.022979736, 0.025024414, 0.0062065125, 0.008583069, 0.027999878, 0.002368927, 0.01878357, 0.015419006, 0.03604126, -0.03668213, 0.016494751, -0.037200928, 0.053863525, 0.028259277, -0.041656494, -0.014419556, -0.017456055, 0.011238098, -0.049041748, 0.020401001, 0.001001358, 0.028427124, 0.02027893, 0.035827637, 0.037719727, -0.016708374, 0.024490356, -0.03744507, -0.031677246, 0.026306152, -0.0068244934, 0.055664062, 0.018096924, -0.011894226, -0.011672974, 0.002840042, -0.0026550293, -0.056671143, -0.025405884, -0.0031528473, 0.014541626, 0.0052337646, -0.017837524, -0.022445679, 0.0071983337, 0.02406311, 0.012435913, -0.0152282715, -0.0625, -0.03466797, -0.015853882, 0.006877899, -0.06781006, -0.012435913, 0.0015478134, 0.029846191, 0.006752014, 0.0038700104, 0.045532227, -0.059326172, -0.020263672, -0.007381439, -0.010131836, 0.0013341904, -0.012069702, -0.07006836, -0.040222168, 0.018630981, 0.028030396, 0.024139404, 0.041290283, -0.041992188, -0.051116943, -0.010673523, 0.067993164, 0.01474762, -0.0026741028, 0.018615723, 0.0035476685, -0.0022792816, -0.033966064, 0.04071045, -0.027877808, 0.010154724, -0.025680542, -0.019378662, 0.044952393, 0.03933716, 0.047668457, 0.021560669, -0.03793335, 0.01159668, 0.001917839, -0.010169983, -0.035247803, -0.044158936, -0.009986877, 0.0062675476, 0.012741089, -0.00034451485, 0.024368286, 0.029785156, -0.032348633, 0.01876831, 0.025314331, -0.0009570122, -0.030899048, -0.019241333, 0.01737976, 0.026229858, 0.0049438477, -0.034576416, 0.0045318604, 0.08190918, 0.0028839111, 0.05895996, 0.018798828, -0.03265381, -0.018081665, 0.0021762848, -0.024551392, 0.03527832, -0.011062622, -0.036987305, -0.06329346, 0.050231934, -0.0008878708, -0.04220581, -0.008453369, 0.024383545, -0.021697998, -0.0048675537, 0.003665924, -0.027053833, 0.005634308, -0.03805542, -0.020706177, -0.03741455, 0.015991211, 5.13196e-05, 0.0077819824, 0.025665283, -0.0079956055, 0.008033752, 0.008285522, 0.02015686, 0.030258179, -0.0006337166, -0.025741577, 0.059783936, 0.01878357, 0.006389618, -0.04196167, 0.007896423, -0.01171875, 0.009719849, 0.028564453, -0.024719238, -0.0023384094, -0.02961731, 0.02331543, -0.00919342, 0.044891357, -0.017074585, 0.011375427, 0.010498047, -0.043762207, 0.025924683, 0.014343262, 0.029342651, 0.02230835, 0.052124023, -0.015449524, 0.024780273, 0.027923584, 0.01940918, 0.009689331, 0.0057754517, -0.0435791, 0.039642334, -0.02722168, -0.03845215, -0.0026378632, 0.041168213, 0.009048462, -0.024749756, 0.034423828, -0.0034370422, 0.023391724, 0.048950195, -0.041900635, -0.0070343018, 0.02192688, -0.021942139, -0.0047950745, 0.03918457, -0.025909424, -0.0070724487, -0.055664062, 0.013404846, -0.0043411255, -0.029342651, -0.03982544, -0.06866455, -0.019332886, 0.004386902, 0.010559082, 0.01953125, 0.044036865, -0.07086182, 0.015151978, -0.06021118, -0.013145447, 0.0023002625, -0.034484863, 0.017364502, 0.039031982, 0.029541016, -0.043701172, 0.00730896, 0.042266846, -0.018310547, -0.017196655, 0.042022705, 0.0070495605, -0.043121338, -0.014518738, 0.030227661, 0.031097412, -0.0109939575, -0.01977539, -0.0068969727, 0.0065841675, 0.02911377, -0.025985718, -0.029785156, 0.0034484863, 0.036865234, -0.07745361, -0.023468018, -0.0070877075, -0.0024375916, 0.018722534, 0.03768921, 0.010238647, -0.0317688, -0.011703491, -8.8751316e-05, 0.066345215, 0.0013246536, -0.0473938, -0.009605408, -0.0047950745, 0.01651001, -0.030883789, -0.013763428, -0.0524292, 0.016616821, -0.010177612, -0.02458191, -0.019332886, -0.02420044, -0.018859863, 0.032409668, 0.020584106, -0.0063591003, 0.0025939941, 0.035217285, -0.020874023, -0.0085372925, 0.0078125, -0.016174316, -0.024124146, 0.015075684, -0.028167725, 0.0055122375, -0.0018968582, 0.030090332, -0.052490234, -0.03866577, 0.04788208, 0.015235901, 0.05319214, -0.0020275116, 0.0031051636, -0.023742676, -0.0061149597, -0.0011863708, 0.011993408, -0.013092041, 0.03262329, -0.0042648315, -0.044433594, 9.584427e-05, 0.008918762, 0.0065193176, 0.015106201, -0.0021514893, 0.0152282715, -0.014709473, 0.0211792, -0.05355835, -0.030410767, 0.021133423, -0.019958496, -0.0087890625, -0.06414795, -0.0010566711, 0.024673462, 0.022262573, 0.017562866, 0.06689453, 0.022384644, 0.0128479, 0.009147644, 0.008834839, 0.029312134, 0.011154175, -0.02406311, 0.004917145, -0.011184692, 0.02609253, 0.035583496, 0.025802612, -0.0118255615, -0.004852295, -0.06210327, -0.011138916, -0.0064201355, 0.046722412, 0.01486969, 0.02722168, 0.017440796, 0.040039062, 0.06616211, -0.029663086, -0.04336548, 0.0357666, -0.008766174, -0.07006836, 0.03793335, 0.016998291, 0.01234436, -0.002204895, -0.015670776, 0.010017395, -0.017120361, 0.049865723, -0.070007324, -0.0062675476, 0.040283203, -0.06976318, 0.006629944, -0.008895874, 0.012527466, 0.0446167, -0.038208008, 0.045196533, -0.024246216, 0.011512756, -0.01826477, -0.027511597, 0.0004878044, 0.0053138733, 0.041168213, -0.018829346, -0.028930664, -0.03479004, -0.014457703, 0.024047852, 0.00422287, -0.043914795, 0.03137207, 0.04562378, -0.0070877075, -0.026565552, 0.01259613, 0.007797241, -0.020965576, 0.037109375, -0.06903076, 0.0513916, 0.045074463, 0.009117126, -0.005970001, -0.024856567, -0.0087890625, 0.0146865845, 0.052215576, -0.037139893, -0.019485474, -0.020965576, 0.020477295, -0.022949219, 0.01737976, -0.00010049343, -0.011062622, -0.027557373, 0.066711426, 0.07196045, 0.055114746, 0.0026893616, -0.028503418, -0.025726318, 0.016555786, -0.0019130707, -0.014335632, -0.02015686, -0.009635925, 0.008300781, -0.052368164, 0.043823242, 0.019348145, 0.0038814545, 0.041534424, 0.03302002, 0.022384644, 0.01838684, -0.012069702, -0.03353882, 0.027694702, 0.045928955, 0.055999756, -0.007461548, -0.027816772, 0.012573242, 0.0034637451, 0.016555786, 0.05795288, 0.025970459, 0.05545044, 0.0010757446, -0.037200928, -0.017288208, -0.04800415, -0.023620605, 0.005836487, 0.055999756, 0.028015137, 0.042816162, -0.0058250427, 0.011634827, 0.05102539, -0.026611328, 0.031555176, 0.008728027, 0.014007568, -0.008293152, 0.029403687, -0.0031166077, -0.035339355, -0.010505676, 0.010215759, 0.014663696, 0.034332275, -0.034606934, -0.0052757263, 0.007926941, -0.0033111572, 0.010848999, -0.030303955, 0.019744873, -0.05697632, -0.0048599243, -0.02394104, 0.0012969971, -0.048187256, -0.004878998, -0.005004883, -0.026412964, 0.038238525, -0.020507812, -0.020492554, -0.031097412, -0.027496338, -0.03564453, 0.06021118, 0.022857666, 0.0005760193, 0.027999878, -0.015388489, -0.06359863, -0.006427765, 0.009208679, 0.02645874, 0.06286621, 0.0037231445, -0.0146484375, 0.01374054, -0.04321289, -0.01550293, 0.0041503906, 0.009269714, -0.046844482, -0.02128601, -0.006374359, 0.010688782, -0.030731201, -0.066223145, -0.07244873, 0.004459381, -0.050048828, 0.0066833496, 0.0065727234, -0.00080537796, 0.0034980774, -0.020263672, -0.002336502, 0.016036987, 0.012229919, -0.055267334, 0.079956055, -0.0637207, 0.007820129, -0.034088135, -0.00774765, 0.014030457, -0.011070251, -0.0011205673, 0.024993896, 0.014137268, 0.03857422, -0.048217773, -0.032287598, 0.009780884, 0.051971436, -0.017456055, 0.007156372, 0.055358887, 0.041015625, -0.046295166, 0.01739502, -0.05606079, -0.012672424, -0.012123108, 0.059906006, 0.035888672, -0.003419876, -0.042144775, 0.022232056, 0.00504303, -0.062194824, -0.005104065, -0.02709961, -0.015342712, -0.013542175, -0.0044555664, 0.03491211, 0.03955078, -0.02607727, -0.08465576, 0.024505615, 0.012886047, -0.014198303, 0.00894928, 0.019561768, -0.0045433044, 0.049865723, -0.004146576, -0.012275696, -0.015129089, 0.021194458, 0.009315491, -0.025558472, -0.0006427765, -0.0072669983, -0.0010700226, -0.043762207, 0.01108551, -0.0748291, 0.005344391, -0.04660034, -0.02885437, -0.017532349, -0.00806427, 0.04171753, -0.013298035, 0.05456543, -0.010139465, -0.017440796, 0.033966064, -0.008163452, -0.010826111, -0.064208984, 0.021911621, -0.07733154, -0.0116119385, -0.008476257, 0.0026187897, 0.01737976]\n"
          ]
        }
      ]
    },
    {
      "cell_type": "markdown",
      "source": [
        "We get a 1024-dimensional vector that is standard for the Cohere \"embed-english-v3.0\" model"
      ],
      "metadata": {
        "id": "aGztX4h790IR"
      }
    },
    {
      "cell_type": "markdown",
      "source": [
        "# **Vector Database**"
      ],
      "metadata": {
        "id": "RMOezz2h9-ZV"
      }
    },
    {
      "cell_type": "markdown",
      "source": [
        "Setting up our index specification"
      ],
      "metadata": {
        "id": "EuGtcYbu-MSZ"
      }
    },
    {
      "cell_type": "code",
      "source": [
        "from pinecone import ServerlessSpec\n",
        "\n",
        "spec = ServerlessSpec(\n",
        "    cloud=\"aws\", region=\"us-east-1\"\n",
        ")"
      ],
      "metadata": {
        "id": "HUMwDh91-B31"
      },
      "execution_count": 13,
      "outputs": []
    },
    {
      "cell_type": "markdown",
      "source": [
        "Then we initialize the index. We set the dimension to 1024 accordng to the Cohere model"
      ],
      "metadata": {
        "id": "eD1V1qjq-4IE"
      }
    },
    {
      "cell_type": "code",
      "source": [
        "import time\n",
        "\n",
        "index_name = 'testing'\n",
        "existing_indexes = [\n",
        "    index_info[\"name\"] for index_info in pc.list_indexes()\n",
        "]\n",
        "\n",
        "# check if index already exists\n",
        "if index_name not in existing_indexes:\n",
        "    # if does not exist, create index\n",
        "    pc.create_index(\n",
        "        index_name,\n",
        "        dimension=1024,   # dimensionality of embed-english-v3.0\n",
        "        metric='dotproduct', #can use dot product, cosine similarity, and Euclidean distance as the similarity metric\n",
        "        spec=spec\n",
        "    )\n",
        "    # wait for index to be initialized\n",
        "    while not pc.describe_index(index_name).status['ready']:\n",
        "        time.sleep(1)\n",
        "\n",
        "# connect to index\n",
        "index = pc.Index(index_name)\n",
        "time.sleep(1)\n",
        "# view index stats\n",
        "index.describe_index_stats()"
      ],
      "metadata": {
        "colab": {
          "base_uri": "https://localhost:8080/"
        },
        "id": "Gb4WhJgl-3vD",
        "outputId": "56dbeae7-ba9f-4fc2-e761-eded76e6b80b"
      },
      "execution_count": 14,
      "outputs": [
        {
          "output_type": "execute_result",
          "data": {
            "text/plain": [
              "{'dimension': 1024,\n",
              " 'index_fullness': 0.0,\n",
              " 'namespaces': {},\n",
              " 'total_vector_count': 0}"
            ]
          },
          "metadata": {},
          "execution_count": 14
        }
      ]
    },
    {
      "cell_type": "markdown",
      "source": [
        "# **Indexing**"
      ],
      "metadata": {
        "id": "HPeyja4MADic"
      }
    },
    {
      "cell_type": "markdown",
      "source": [
        "We create embeddings and add them in the index"
      ],
      "metadata": {
        "id": "ixPzgh5tzRUH"
      }
    },
    {
      "cell_type": "code",
      "source": [
        "from tqdm.auto import tqdm\n",
        "from uuid import uuid4\n",
        "\n",
        "batch_limit = 100\n",
        "\n",
        "texts = []\n",
        "metadatas = []\n",
        "\n",
        "data = \"\".join(scraped_data)\n",
        "record_texts = text_splitter.split_text(data)\n",
        "\n",
        "# Create metadata for each text chunk\n",
        "record_metadatas = [{\n",
        "    \"chunk\": j, \"text\": text\n",
        "} for j, text in enumerate(record_texts)]\n",
        "\n",
        "print(f\"Number of chunks: {len(record_texts)}\")\n",
        "print(f\"Number of metadata entries: {len(record_metadatas)}\")\n",
        "\n",
        "# texts.extend(record_texts)\n",
        "# metadatas.extend(record_metadatas)\n",
        "\n",
        "\n",
        "for i, chunk in enumerate(tqdm(record_texts)):\n",
        "  texts.append(chunk)\n",
        "  metadatas.append(record_metadatas[i])\n",
        "\n",
        "  if len(texts) >= batch_limit:\n",
        "    ids = [str(uuid4()) for _ in range(len(texts))]\n",
        "    embeds = co.embed(\n",
        "        texts=texts,\n",
        "        model=model,\n",
        "        input_type=input_type,\n",
        "        embedding_types=['float'])\n",
        "    embed = embeds.embeddings.float\n",
        "\n",
        "    if len(ids) != len(embed) or len(embed) != len(metadatas):\n",
        "      raise ValueError(f\"Mismatch between ids ({len(ids)}), embeddings ({len(embed)}), and metadata ({len(metadatas)})\")\n",
        "\n",
        "    index.upsert(vectors=zip(ids, embed, metadatas))\n",
        "    texts = []\n",
        "    metadatas = []\n",
        "\n",
        "if len(texts) >0 :\n",
        "  ids = [str(uuid4()) for _ in range(len(texts))]\n",
        "  embeds = co.embed(\n",
        "      texts=texts,\n",
        "      model=model,\n",
        "      input_type=input_type,\n",
        "      embedding_types=['float'])\n",
        "  embed = embeds.embeddings.float\n",
        "  if len(ids) != len(embed) or len(embed) != len(metadatas):\n",
        "    raise ValueError(f\"Mismatch between ids ({len(ids)}), embeddings ({len(embed)}), and metadata ({len(metadatas)})\")\n",
        "  index.upsert(vectors=zip(ids, embed, metadatas))\n",
        "  texts = []\n",
        "  metadatas = []\n"
      ],
      "metadata": {
        "colab": {
          "base_uri": "https://localhost:8080/",
          "height": 84,
          "referenced_widgets": [
            "8544c43b97be4ce28050493aa2e5e129",
            "211a690d052443ca871457024622ee32",
            "d010d148cc73441eb622a226e03a31fd",
            "bf6e354e8c9d4de3903f458b95cb7658",
            "516d88c81efc48edbf4334adac721b32",
            "02ec8c6bd3e54bdba212ac7984a3e90c",
            "badfebc1495a4e7fa52e18f50def89a4",
            "d8de96efa82947068c19b52152a66d2c",
            "4a6cdcc89fe74724bb82301778684222",
            "a69a82d71f1d4703b3172964b8b3b284",
            "7348e0f3bd8b4e39a8c4bd62a8fda574"
          ]
        },
        "id": "6c97w96VkIqU",
        "outputId": "767138f3-83e7-489e-d118-8f287347e45a"
      },
      "execution_count": 15,
      "outputs": [
        {
          "output_type": "stream",
          "name": "stdout",
          "text": [
            "Number of chunks: 58\n",
            "Number of metadata entries: 58\n"
          ]
        },
        {
          "output_type": "display_data",
          "data": {
            "text/plain": [
              "  0%|          | 0/58 [00:00<?, ?it/s]"
            ],
            "application/vnd.jupyter.widget-view+json": {
              "version_major": 2,
              "version_minor": 0,
              "model_id": "8544c43b97be4ce28050493aa2e5e129"
            }
          },
          "metadata": {}
        }
      ]
    },
    {
      "cell_type": "code",
      "source": [
        "index.describe_index_stats()"
      ],
      "metadata": {
        "colab": {
          "base_uri": "https://localhost:8080/"
        },
        "id": "abvCuwd_oISG",
        "outputId": "096cce42-d65b-48d9-c7a5-e4e3dede7ea8"
      },
      "execution_count": 16,
      "outputs": [
        {
          "output_type": "execute_result",
          "data": {
            "text/plain": [
              "{'dimension': 1024,\n",
              " 'index_fullness': 0.0,\n",
              " 'namespaces': {},\n",
              " 'total_vector_count': 0}"
            ]
          },
          "metadata": {},
          "execution_count": 16
        }
      ]
    },
    {
      "cell_type": "code",
      "source": [
        "# print(\"Count of embeddings:\", len(embeds.embeddings.float))\n",
        "print(\"Count of metadata:\", len(metadatas))\n"
      ],
      "metadata": {
        "id": "xTrdolIOH0YV",
        "colab": {
          "base_uri": "https://localhost:8080/"
        },
        "outputId": "ab5c4aab-1709-4e38-8fea-49170a5396de"
      },
      "execution_count": 17,
      "outputs": [
        {
          "output_type": "stream",
          "name": "stdout",
          "text": [
            "Count of metadata: 0\n"
          ]
        }
      ]
    },
    {
      "cell_type": "markdown",
      "source": [
        "# **Creating a Vector Store**"
      ],
      "metadata": {
        "id": "BoENxolzkU4w"
      }
    },
    {
      "cell_type": "code",
      "source": [
        "pip install -U langchain-pinecone\n"
      ],
      "metadata": {
        "id": "KUE9-O8qn1es",
        "colab": {
          "base_uri": "https://localhost:8080/"
        },
        "outputId": "0f56ac9e-0f25-4cd8-cd24-9f5805755aad"
      },
      "execution_count": 18,
      "outputs": [
        {
          "output_type": "stream",
          "name": "stdout",
          "text": [
            "Collecting langchain-pinecone\n",
            "  Downloading langchain_pinecone-0.2.0-py3-none-any.whl.metadata (1.7 kB)\n",
            "Collecting aiohttp<3.10,>=3.9.5 (from langchain-pinecone)\n",
            "  Downloading aiohttp-3.9.5-cp310-cp310-manylinux_2_17_x86_64.manylinux2014_x86_64.whl.metadata (7.5 kB)\n",
            "Requirement already satisfied: langchain-core<0.4,>=0.3 in /usr/local/lib/python3.10/dist-packages (from langchain-pinecone) (0.3.12)\n",
            "Requirement already satisfied: numpy<2,>=1 in /usr/local/lib/python3.10/dist-packages (from langchain-pinecone) (1.26.4)\n",
            "Collecting pinecone-client<6.0.0,>=5.0.0 (from langchain-pinecone)\n",
            "  Downloading pinecone_client-5.0.1-py3-none-any.whl.metadata (19 kB)\n",
            "Requirement already satisfied: aiosignal>=1.1.2 in /usr/local/lib/python3.10/dist-packages (from aiohttp<3.10,>=3.9.5->langchain-pinecone) (1.3.1)\n",
            "Requirement already satisfied: attrs>=17.3.0 in /usr/local/lib/python3.10/dist-packages (from aiohttp<3.10,>=3.9.5->langchain-pinecone) (24.2.0)\n",
            "Requirement already satisfied: frozenlist>=1.1.1 in /usr/local/lib/python3.10/dist-packages (from aiohttp<3.10,>=3.9.5->langchain-pinecone) (1.4.1)\n",
            "Requirement already satisfied: multidict<7.0,>=4.5 in /usr/local/lib/python3.10/dist-packages (from aiohttp<3.10,>=3.9.5->langchain-pinecone) (6.1.0)\n",
            "Requirement already satisfied: yarl<2.0,>=1.0 in /usr/local/lib/python3.10/dist-packages (from aiohttp<3.10,>=3.9.5->langchain-pinecone) (1.15.2)\n",
            "Requirement already satisfied: async-timeout<5.0,>=4.0 in /usr/local/lib/python3.10/dist-packages (from aiohttp<3.10,>=3.9.5->langchain-pinecone) (4.0.3)\n",
            "Requirement already satisfied: PyYAML>=5.3 in /usr/local/lib/python3.10/dist-packages (from langchain-core<0.4,>=0.3->langchain-pinecone) (6.0.2)\n",
            "Requirement already satisfied: jsonpatch<2.0,>=1.33 in /usr/local/lib/python3.10/dist-packages (from langchain-core<0.4,>=0.3->langchain-pinecone) (1.33)\n",
            "Requirement already satisfied: langsmith<0.2.0,>=0.1.125 in /usr/local/lib/python3.10/dist-packages (from langchain-core<0.4,>=0.3->langchain-pinecone) (0.1.136)\n",
            "Requirement already satisfied: packaging<25,>=23.2 in /usr/local/lib/python3.10/dist-packages (from langchain-core<0.4,>=0.3->langchain-pinecone) (24.1)\n",
            "Requirement already satisfied: pydantic<3.0.0,>=2.5.2 in /usr/local/lib/python3.10/dist-packages (from langchain-core<0.4,>=0.3->langchain-pinecone) (2.9.2)\n",
            "Requirement already satisfied: tenacity!=8.4.0,<10.0.0,>=8.1.0 in /usr/local/lib/python3.10/dist-packages (from langchain-core<0.4,>=0.3->langchain-pinecone) (9.0.0)\n",
            "Requirement already satisfied: typing-extensions>=4.7 in /usr/local/lib/python3.10/dist-packages (from langchain-core<0.4,>=0.3->langchain-pinecone) (4.12.2)\n",
            "Requirement already satisfied: certifi>=2019.11.17 in /usr/local/lib/python3.10/dist-packages (from pinecone-client<6.0.0,>=5.0.0->langchain-pinecone) (2024.8.30)\n",
            "Requirement already satisfied: pinecone-plugin-inference<2.0.0,>=1.0.3 in /usr/local/lib/python3.10/dist-packages (from pinecone-client<6.0.0,>=5.0.0->langchain-pinecone) (1.1.0)\n",
            "Requirement already satisfied: pinecone-plugin-interface<0.0.8,>=0.0.7 in /usr/local/lib/python3.10/dist-packages (from pinecone-client<6.0.0,>=5.0.0->langchain-pinecone) (0.0.7)\n",
            "Requirement already satisfied: tqdm>=4.64.1 in /usr/local/lib/python3.10/dist-packages (from pinecone-client<6.0.0,>=5.0.0->langchain-pinecone) (4.66.5)\n",
            "Requirement already satisfied: urllib3>=1.26.0 in /usr/local/lib/python3.10/dist-packages (from pinecone-client<6.0.0,>=5.0.0->langchain-pinecone) (2.2.3)\n",
            "Requirement already satisfied: jsonpointer>=1.9 in /usr/local/lib/python3.10/dist-packages (from jsonpatch<2.0,>=1.33->langchain-core<0.4,>=0.3->langchain-pinecone) (3.0.0)\n",
            "Requirement already satisfied: httpx<1,>=0.23.0 in /usr/local/lib/python3.10/dist-packages (from langsmith<0.2.0,>=0.1.125->langchain-core<0.4,>=0.3->langchain-pinecone) (0.27.2)\n",
            "Requirement already satisfied: orjson<4.0.0,>=3.9.14 in /usr/local/lib/python3.10/dist-packages (from langsmith<0.2.0,>=0.1.125->langchain-core<0.4,>=0.3->langchain-pinecone) (3.10.8)\n",
            "Requirement already satisfied: requests<3,>=2 in /usr/local/lib/python3.10/dist-packages (from langsmith<0.2.0,>=0.1.125->langchain-core<0.4,>=0.3->langchain-pinecone) (2.32.3)\n",
            "Requirement already satisfied: requests-toolbelt<2.0.0,>=1.0.0 in /usr/local/lib/python3.10/dist-packages (from langsmith<0.2.0,>=0.1.125->langchain-core<0.4,>=0.3->langchain-pinecone) (1.0.0)\n",
            "Requirement already satisfied: annotated-types>=0.6.0 in /usr/local/lib/python3.10/dist-packages (from pydantic<3.0.0,>=2.5.2->langchain-core<0.4,>=0.3->langchain-pinecone) (0.7.0)\n",
            "Requirement already satisfied: pydantic-core==2.23.4 in /usr/local/lib/python3.10/dist-packages (from pydantic<3.0.0,>=2.5.2->langchain-core<0.4,>=0.3->langchain-pinecone) (2.23.4)\n",
            "Requirement already satisfied: idna>=2.0 in /usr/local/lib/python3.10/dist-packages (from yarl<2.0,>=1.0->aiohttp<3.10,>=3.9.5->langchain-pinecone) (3.10)\n",
            "Requirement already satisfied: propcache>=0.2.0 in /usr/local/lib/python3.10/dist-packages (from yarl<2.0,>=1.0->aiohttp<3.10,>=3.9.5->langchain-pinecone) (0.2.0)\n",
            "Requirement already satisfied: anyio in /usr/local/lib/python3.10/dist-packages (from httpx<1,>=0.23.0->langsmith<0.2.0,>=0.1.125->langchain-core<0.4,>=0.3->langchain-pinecone) (3.7.1)\n",
            "Requirement already satisfied: httpcore==1.* in /usr/local/lib/python3.10/dist-packages (from httpx<1,>=0.23.0->langsmith<0.2.0,>=0.1.125->langchain-core<0.4,>=0.3->langchain-pinecone) (1.0.6)\n",
            "Requirement already satisfied: sniffio in /usr/local/lib/python3.10/dist-packages (from httpx<1,>=0.23.0->langsmith<0.2.0,>=0.1.125->langchain-core<0.4,>=0.3->langchain-pinecone) (1.3.1)\n",
            "Requirement already satisfied: h11<0.15,>=0.13 in /usr/local/lib/python3.10/dist-packages (from httpcore==1.*->httpx<1,>=0.23.0->langsmith<0.2.0,>=0.1.125->langchain-core<0.4,>=0.3->langchain-pinecone) (0.14.0)\n",
            "Requirement already satisfied: charset-normalizer<4,>=2 in /usr/local/lib/python3.10/dist-packages (from requests<3,>=2->langsmith<0.2.0,>=0.1.125->langchain-core<0.4,>=0.3->langchain-pinecone) (3.4.0)\n",
            "Requirement already satisfied: exceptiongroup in /usr/local/lib/python3.10/dist-packages (from anyio->httpx<1,>=0.23.0->langsmith<0.2.0,>=0.1.125->langchain-core<0.4,>=0.3->langchain-pinecone) (1.2.2)\n",
            "Downloading langchain_pinecone-0.2.0-py3-none-any.whl (11 kB)\n",
            "Downloading aiohttp-3.9.5-cp310-cp310-manylinux_2_17_x86_64.manylinux2014_x86_64.whl (1.2 MB)\n",
            "\u001b[2K   \u001b[90m━━━━━━━━━━━━━━━━━━━━━━━━━━━━━━━━━━━━━━━━\u001b[0m \u001b[32m1.2/1.2 MB\u001b[0m \u001b[31m17.8 MB/s\u001b[0m eta \u001b[36m0:00:00\u001b[0m\n",
            "\u001b[?25hDownloading pinecone_client-5.0.1-py3-none-any.whl (244 kB)\n",
            "\u001b[2K   \u001b[90m━━━━━━━━━━━━━━━━━━━━━━━━━━━━━━━━━━━━━━━━\u001b[0m \u001b[32m244.8/244.8 kB\u001b[0m \u001b[31m15.4 MB/s\u001b[0m eta \u001b[36m0:00:00\u001b[0m\n",
            "\u001b[?25hInstalling collected packages: pinecone-client, aiohttp, langchain-pinecone\n",
            "  Attempting uninstall: aiohttp\n",
            "    Found existing installation: aiohttp 3.10.10\n",
            "    Uninstalling aiohttp-3.10.10:\n",
            "      Successfully uninstalled aiohttp-3.10.10\n",
            "Successfully installed aiohttp-3.9.5 langchain-pinecone-0.2.0 pinecone-client-5.0.1\n"
          ]
        }
      ]
    },
    {
      "source": [
        "from langchain_pinecone import Pinecone\n",
        "\n",
        "# Custom embedding class for Cohere\n",
        "class CohereEmbedder:\n",
        "    def embed_query(self, query):\n",
        "        embeds = co.embed(\n",
        "            texts=[query],  # Cohere expects a list of texts\n",
        "            model=\"embed-english-v3.0\",\n",
        "            input_type=\"search_query\",\n",
        "            embedding_types=['float']\n",
        "        )\n",
        "        return embeds.embeddings.float[0] # Updated to access the float embedding at index 0\n",
        "\n",
        "# Instantiate the embedder\n",
        "cohere_embedder = CohereEmbedder()\n",
        "\n",
        "# Initialize the vector store with the embedding method\n",
        "text_field = \"text\"\n",
        "vectorstore = Pinecone(\n",
        "    index, cohere_embedder, text_field\n",
        ")\n"
      ],
      "cell_type": "code",
      "metadata": {
        "id": "9WS2adz0-nZm",
        "colab": {
          "base_uri": "https://localhost:8080/"
        },
        "outputId": "a204a2d1-4035-438f-a750-83dbdf762986"
      },
      "execution_count": 19,
      "outputs": [
        {
          "output_type": "stream",
          "name": "stderr",
          "text": [
            "<ipython-input-19-f7150c97d3ac>:19: LangChainDeprecationWarning: The class `Pinecone` was deprecated in LangChain 0.0.3 and will be removed in 0.3.0. Use :class:`~PineconeVectorStore` instead.\n",
            "  vectorstore = Pinecone(\n"
          ]
        }
      ]
    },
    {
      "cell_type": "code",
      "source": [
        "\n",
        "# Run a similarity search\n",
        "# query = \"who founded toyota\"\n",
        "\n",
        "vectorstore.similarity_search(\n",
        "    query,  # our search query\n",
        "    k=3  # return 3 most relevant docs\n",
        ")"
      ],
      "metadata": {
        "id": "i_tTDRUNoMni",
        "colab": {
          "base_uri": "https://localhost:8080/"
        },
        "outputId": "2e3a151e-f9a3-4fc3-a5dd-7af3be1fc7c0"
      },
      "execution_count": 20,
      "outputs": [
        {
          "output_type": "execute_result",
          "data": {
            "text/plain": [
              "[Document(id='9c7b0aa3-cdcd-4e7a-a291-932e69867ce0', metadata={'chunk': 0.0}, page_content=\"Toyota Motor Corporation (Japanese: トヨタ自動車株式会社, Hepburn: Toyota Jidōsha kabushikigaisha, IPA: [toꜜjota], English: /tɔɪˈjoʊtə/, commonly known as simply Toyota) is a Japanese multinational automotive manufacturer headquartered in Toyota City, Aichi, Japan. It was founded by Kiichiro Toyoda and incorporated on August 28, 1937. Toyota is the largest automobile manufacturer in the world, producing about 10 million vehicles per year.\\nThe company was originally founded as a spinoff of Toyota Industries, a machine maker started by Sakichi Toyoda, Kiichiro's father. Both companies are now part of the Toyota Group, one of the largest conglomerates in the world. While still a department of Toyota Industries, the company developed its first product, the Type A engine, in 1934 and its first passenger car in 1936, the Toyota AA.\\nAfter World War II, Toyota benefited from Japan's alliance with the United States to learn from American automakers and other companies, which gave rise to The Toyota Way (a management philosophy) and the Toyota Production System (a lean manufacturing practice) that transformed the small company into a leader in the industry and was the subject of many academic studies.\"),\n",
              " Document(id='b3655f20-90fe-4b19-a605-2fe03bfabbfe', metadata={'chunk': 4.0}, page_content='Vehicles were originally sold under the name \"Toyoda\" (トヨダ), from the family name of the company\\'s founder, Kiichirō Toyoda. In September 1936, the company ran a public competition to design a new logo. Of 27,000 entries, the winning entry was the three Japanese katakana letters for \"Toyoda\" in a circle. However, Rizaburo Toyoda, who had married into the family and was not born with that name, preferred \"Toyota\" (トヨタ) because it took eight brush strokes (a lucky number) to write in Japanese, was visually simpler (leaving off the diacritic at the end), and with a voiceless consonant instead of a voiced one (voiced consonants are considered to have a \"murky\" or \"muddy\" sound compared to voiceless consonants, which are \"clear\").\\nSince toyoda literally means \"fertile rice paddies\", changing the name also prevented the company from being associated with old-fashioned farming. The newly formed word was trademarked and the company began trading on August 28, 1937, as the Toyota Motor Company Ltd.[6][13][14][15] Kiichiro\\'s brother-in-law Rizaburo Toyoda was appointed the firm\\'s first president, with Kiichiro as vice-president. Toyota Automatic Loom Works formally transferred automobile manufacturing to the new entity on September 29.[6][non-primary source needed]\\nThe Japanese government supported the company by preventing foreign competitors Ford and General Motors from importing automobiles into Japan.[16]'),\n",
              " Document(id='fe81b0a0-0002-4098-9a57-c269133d9d22', metadata={'chunk': 25.0}, page_content=\"In 2022, Toyota signed a £11.3 million deal with the British government to develop hydrogen-powered pickup trucks. The Department for Business, Energy and Industrial Strategy is investing £5.6 million in the research scheme, based at Burnaston, with a further £5.7 million coming through the Advanced Propulsion Centre UK (APC).[107]\\nIn January 2023, Toyota CEO and President Akio Toyoda announced that he was stepping down and passing the position on to Koji Sato. Akio is the great-grandson of company founder Rizaburo Toyoda. Sato had previously run Lexus, Toyota's luxury car brand. The change is set to take effect on April 1, 2023.[108][109]\\nIn 2023, after negotiating with the unions, Toyota implemented the largest increase in employee wages in 20 years.[110]\\nIn July 2024, Toyota announced plans to build an electric car cell plant in Fukuoka and export them to the rest of Asia.[111]\\nIn 1950, Toyota was split into Toyota Motor Co. and Toyota Motor Sales Co. (sales arm of Toyota); the two companies merged in 1982 to create one unified company, with then-Toyota Motor Co. President Eiji Toyoda becoming chairman. Chairmen listed prior to 1982 below were for the pre-merger Toyota Motor Co. only.[112][113]\\nSimilar to the chairman position, in 1982 the then-Toyota Motor Sales Co. President Shoichiro Toyoda becoming President. President's listed prior to 1982 below were for the pre-merger Toyota Motor Co. only.[112][117]\")]"
            ]
          },
          "metadata": {},
          "execution_count": 20
        }
      ]
    },
    {
      "cell_type": "code",
      "source": [
        "def generate_answer_from_cohere(query, vectorstore, k=3):\n",
        "    relevant_docs = vectorstore.similarity_search(query, k=k)\n",
        "\n",
        "    context = \"\\n\".join([doc.page_content for doc in relevant_docs])\n",
        "\n",
        "    prompt = f\"Context:\\n{context}\\n\\nQuestion: {query}\\n\\nAnswer:\"\n",
        "\n",
        "    response = co.generate(\n",
        "        model='command-xlarge-nightly',\n",
        "        prompt=prompt,\n",
        "        max_tokens=150,\n",
        "        temperature=0.7,\n",
        "        stop_sequences=[\"\\n\"]\n",
        "    )\n",
        "\n",
        "    return response.generations[0].text.strip()\n",
        "\n",
        "# Example usage\n",
        "query = \"should i trust toyota\"\n",
        "\n",
        "\n",
        "# Generate an answer based on the query and relevant context from Pinecone\n",
        "answer = generate_answer_from_cohere(query, vectorstore, k=3)\n",
        "\n",
        "print(\"Generated Answer:\", answer)"
      ],
      "metadata": {
        "colab": {
          "base_uri": "https://localhost:8080/"
        },
        "id": "IJd96IW5_J2_",
        "outputId": "7bff7b33-e538-49dd-8954-8b6b29226f30"
      },
      "execution_count": 21,
      "outputs": [
        {
          "output_type": "stream",
          "name": "stdout",
          "text": [
            "Generated Answer: Based on the information provided, there are several factors to consider when determining whether or not to trust Toyota. On the one hand, Toyota has made significant investments in artificial intelligence, robotics, and electric vehicle battery production, demonstrating a commitment to innovation and sustainability. They have also maintained their position as the world's best-selling automaker for the third year in a row. However, there have been several incidents that have damaged Toyota's reputation, such as the revelation that their subsidiary Daihatsu cheated in crash tests, the recall of their first mass-produced all-electric vehicles due to safety concerns, and their support of the Trump Administration's proposal to reduce California's fuel efficiency standards, which has negatively impacted their reputation as a green brand. Ultimately, whether\n"
          ]
        }
      ]
    },
    {
      "cell_type": "code",
      "source": [
        "query = \"Who created toyota\"\n",
        "answer = generate_answer_from_cohere(query, vectorstore, k=3)\n",
        "print(\"Generated Answer:\", answer)"
      ],
      "metadata": {
        "id": "TAKG6EGuASfD",
        "colab": {
          "base_uri": "https://localhost:8080/"
        },
        "outputId": "d355f621-3678-41ae-8b5b-02517603da86"
      },
      "execution_count": 22,
      "outputs": [
        {
          "output_type": "stream",
          "name": "stdout",
          "text": [
            "Generated Answer: Toyota Motor Corporation was founded by Kiichiro Toyoda and incorporated on August 28, 1937. The company was originally founded as a spinoff of Toyota Industries, a machine maker started by Sakichi Toyoda, Kiichiro's father.\n"
          ]
        }
      ]
    },
    {
      "cell_type": "code",
      "source": [
        "query = \"Who is toyota's biggest competitor\"\n",
        "answer = generate_answer_from_cohere(query, vectorstore, k=3)\n",
        "print(\"Generated Answer:\", answer)"
      ],
      "metadata": {
        "colab": {
          "base_uri": "https://localhost:8080/"
        },
        "id": "ncQqgAdjzsyO",
        "outputId": "d7d67848-4721-4469-9cfb-c0e1c2b522e5"
      },
      "execution_count": 23,
      "outputs": [
        {
          "output_type": "stream",
          "name": "stdout",
          "text": [
            "Generated Answer: Toyota's biggest competitors are Volkswagen and other large automakers, such as General Motors, Ford, and Stellantis.\n"
          ]
        }
      ]
    },
    {
      "cell_type": "code",
      "source": [
        "query = \"Which is the best car toyota made\"\n",
        "answer = generate_answer_from_cohere(query, vectorstore, k=3)\n",
        "print(\"Generated Answer:\", answer)"
      ],
      "metadata": {
        "colab": {
          "base_uri": "https://localhost:8080/"
        },
        "id": "oixTKQS_0WQ-",
        "outputId": "e1b99ad8-5994-4998-eb52-39aaaf3bebfa"
      },
      "execution_count": 24,
      "outputs": [
        {
          "output_type": "stream",
          "name": "stdout",
          "text": [
            "Generated Answer: The Toyota Corolla is the best-selling car that Toyota has made, having become the world's all-time best-selling automobile.\n"
          ]
        }
      ]
    },
    {
      "cell_type": "code",
      "source": [
        "query = \"Name some previous CEO's\"\n",
        "answer = generate_answer_from_cohere(query, vectorstore, k=3)\n",
        "print(\"Generated Answer:\", answer)"
      ],
      "metadata": {
        "colab": {
          "base_uri": "https://localhost:8080/"
        },
        "id": "6pNRrKC80bRs",
        "outputId": "fa509c38-6450-4204-f0df-6d78f2fcc42c"
      },
      "execution_count": 25,
      "outputs": [
        {
          "output_type": "stream",
          "name": "stdout",
          "text": [
            "Generated Answer: Some previous CEOs of Toyota include Akio Toyoda, Katsuaki Watanabe, and Eiji Toyoda.\n"
          ]
        }
      ]
    },
    {
      "cell_type": "code",
      "source": [
        "query = \"Whats the latest news\"\n",
        "answer = generate_answer_from_cohere(query, vectorstore, k=3)\n",
        "print(\"Generated Answer:\", answer)"
      ],
      "metadata": {
        "colab": {
          "base_uri": "https://localhost:8080/"
        },
        "id": "0t1AdVlc0frD",
        "outputId": "e7e18ca7-294e-4d17-d3bb-0c0ac62b74d7"
      },
      "execution_count": 26,
      "outputs": [
        {
          "output_type": "stream",
          "name": "stdout",
          "text": [
            "Generated Answer: The latest news in the context provided is from July 2024, when Toyota announced plans to build an electric car cell plant in Fukuoka and export them to the rest of Asia.\n"
          ]
        }
      ]
    },
    {
      "cell_type": "code",
      "source": [
        "query = \"How huge is the brand\"\n",
        "answer = generate_answer_from_cohere(query, vectorstore, k=3)\n",
        "print(\"Generated Answer:\", answer)"
      ],
      "metadata": {
        "colab": {
          "base_uri": "https://localhost:8080/"
        },
        "id": "BvPsMd2O0l_r",
        "outputId": "b0bc0ac9-efad-4259-d24f-558d7da2ffe1"
      },
      "execution_count": 27,
      "outputs": [
        {
          "output_type": "stream",
          "name": "stdout",
          "text": [
            "Generated Answer: Toyota is a massive brand, with a global presence and a history of innovation and success. It is the world's largest automaker, the largest company in Japan, and the ninth-largest company in the world by revenue. Toyota has sold more than 300 million vehicles worldwide, including the Toyota Corolla, which is the world's all-time best-selling automobile. The company has also been a leader in the development and sales of fuel-efficient hybrid electric vehicles, with more than 40 hybrid vehicle models sold around the world. In addition, Toyota has expanded its offerings to include luxury cars through its Lexus division, and has also developed the Toyota Coaster minibus, which is widely used in Japan, Singapore, Hong Kong, Australia,\n"
          ]
        }
      ]
    },
    {
      "cell_type": "code",
      "source": [],
      "metadata": {
        "id": "ndAvuLjg0tE8"
      },
      "execution_count": null,
      "outputs": []
    }
  ]
}